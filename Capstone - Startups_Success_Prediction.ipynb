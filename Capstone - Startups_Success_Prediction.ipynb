{
 "cells": [
  {
   "cell_type": "markdown",
   "id": "a731e949",
   "metadata": {
    "pycharm": {
     "name": "#%% md\n"
    }
   },
   "source": [
    "# <font color =redblue> Machine Learning Approach Towards Startups Success Prediction\n",
    "# <font color =redblue> Zahra Al Huraiz , Khaled Halawani, Reda Al Hamza"
   ]
  },
  {
   "cell_type": "code",
   "execution_count": 1,
   "id": "4680b039",
   "metadata": {
    "pycharm": {
     "name": "#%%\n"
    }
   },
   "outputs": [
    {
     "name": "stdout",
     "output_type": "stream",
     "text": [
      "Requirement already satisfied: imblearn==0.0 in c:\\users\\rs7am\\anaconda3\\lib\\site-packages (0.0)\n",
      "Requirement already satisfied: imbalanced-learn in c:\\users\\rs7am\\anaconda3\\lib\\site-packages (from imblearn==0.0) (0.9.1)\n",
      "Requirement already satisfied: numpy>=1.17.3 in c:\\users\\rs7am\\anaconda3\\lib\\site-packages (from imbalanced-learn->imblearn==0.0) (1.21.5)\n",
      "Requirement already satisfied: scikit-learn>=1.1.0 in c:\\users\\rs7am\\anaconda3\\lib\\site-packages (from imbalanced-learn->imblearn==0.0) (1.1.1)\n",
      "Requirement already satisfied: threadpoolctl>=2.0.0 in c:\\users\\rs7am\\anaconda3\\lib\\site-packages (from imbalanced-learn->imblearn==0.0) (2.2.0)\n",
      "Requirement already satisfied: joblib>=1.0.0 in c:\\users\\rs7am\\anaconda3\\lib\\site-packages (from imbalanced-learn->imblearn==0.0) (1.1.0)\n",
      "Requirement already satisfied: scipy>=1.3.2 in c:\\users\\rs7am\\anaconda3\\lib\\site-packages (from imbalanced-learn->imblearn==0.0) (1.7.3)\n",
      "\n",
      "[notice] A new release of pip available: 22.2 -> 22.2.1\n",
      "[notice] To update, run: python.exe -m pip install --upgrade pip\n",
      "Requirement already satisfied: dmba in c:\\users\\rs7am\\anaconda3\\lib\\site-packages (0.1.0)\n",
      "\n",
      "[notice] A new release of pip available: 22.2 -> 22.2.1\n",
      "[notice] To update, run: python.exe -m pip install --upgrade pip\n",
      "Requirement already satisfied: xgboost in c:\\users\\rs7am\\anaconda3\\lib\\site-packages (1.6.1)\n",
      "Requirement already satisfied: scipy in c:\\users\\rs7am\\anaconda3\\lib\\site-packages (from xgboost) (1.7.3)\n",
      "Requirement already satisfied: numpy in c:\\users\\rs7am\\anaconda3\\lib\\site-packages (from xgboost) (1.21.5)\n",
      "\n",
      "[notice] A new release of pip available: 22.2 -> 22.2.1\n",
      "[notice] To update, run: python.exe -m pip install --upgrade pip\n"
     ]
    }
   ],
   "source": [
    "# Run this code block only for the first time. \n",
    "\n",
    "!pip install imblearn==0.0\n",
    "!pip install dmba\n",
    "!pip install xgboost"
   ]
  },
  {
   "cell_type": "code",
   "execution_count": 2,
   "id": "dafcbe17",
   "metadata": {
    "pycharm": {
     "name": "#%%\n"
    }
   },
   "outputs": [],
   "source": [
    "import pandas as pd\n",
    "import numpy as np\n",
    "import statistics\n",
    "from scipy import stats\n",
    "from scipy.stats import f_oneway, chi2_contingency\n",
    "import seaborn as sns\n",
    "from IPython import display\n",
    "import matplotlib.pyplot as plt\n",
    "import matplotlib.colors as mcolors\n",
    "\n",
    "from dmba import plotDecisionTree, classificationSummary, regressionSummary\n",
    "from imblearn.over_sampling import SMOTE\n",
    "from collections import Counter\n",
    "from array import array\n",
    "from sklearn import preprocessing, svm , metrics , tree\n",
    "from sklearn.model_selection import train_test_split , cross_val_score , GridSearchCV\n",
    "from sklearn.datasets import make_classification\n",
    "from sklearn.naive_bayes import GaussianNB, MultinomialNB\n",
    "from sklearn.linear_model import LogisticRegression\n",
    "from sklearn.neighbors import KNeighborsClassifier\n",
    "from sklearn.preprocessing import StandardScaler\n",
    "from sklearn.metrics import accuracy_score, roc_auc_score, plot_confusion_matrix\n",
    "from sklearn.ensemble import RandomForestClassifier, GradientBoostingClassifier\n",
    "from sklearn.neural_network import MLPClassifier\n",
    "from sklearn.discriminant_analysis import LinearDiscriminantAnalysis as LDA\n",
    "from xgboost import XGBClassifier\n",
    "\n",
    "\n",
    "import warnings\n",
    "warnings.filterwarnings('ignore')"
   ]
  },
  {
   "cell_type": "markdown",
   "id": "c91f4f68",
   "metadata": {
    "pycharm": {
     "name": "#%% md\n"
    }
   },
   "source": [
    "# <font color = lightgreenblue> 1) Import Data & Basic Exploration"
   ]
  },
  {
   "cell_type": "code",
   "execution_count": 3,
   "id": "fec4fc9b",
   "metadata": {
    "pycharm": {
     "name": "#%%\n"
    }
   },
   "outputs": [],
   "source": [
    "start_ups= pd.read_csv(\"Startups2.csv\")\n",
    "start_ups.set_index('Organization_Name', inplace=True)"
   ]
  },
  {
   "cell_type": "code",
   "execution_count": 4,
   "id": "6c72f6ed",
   "metadata": {
    "pycharm": {
     "name": "#%%\n"
    }
   },
   "outputs": [
    {
     "name": "stdout",
     "output_type": "stream",
     "text": [
      "<class 'pandas.core.frame.DataFrame'>\n",
      "Index: 979 entries, Nana to Saudi Re For Cooperative Reinsurance Co.\n",
      "Data columns (total 21 columns):\n",
      " #   Column                   Non-Null Count  Dtype  \n",
      "---  ------                   --------------  -----  \n",
      " 0   Estimated_Revenue_Range  394 non-null    float64\n",
      " 1   Total_Funding_Amount     210 non-null    float64\n",
      " 2   Headquarters_Location    979 non-null    object \n",
      " 3   Description              979 non-null    object \n",
      " 4   Founded_Date             979 non-null    int64  \n",
      " 5   Number_of_Founders       330 non-null    float64\n",
      " 6   Funding_Status           349 non-null    object \n",
      " 7   Funding_Stage            979 non-null    object \n",
      " 8   Number_Funding_Rounds    271 non-null    float64\n",
      " 9   Number_of_Investors      224 non-null    float64\n",
      " 10  Industries               962 non-null    object \n",
      " 11  Industry_Groups          979 non-null    object \n",
      " 12  Sector_Size              979 non-null    int64  \n",
      " 13  Number_of_Employees      979 non-null    int64  \n",
      " 14  Downloads_Last_30_Days   46 non-null     object \n",
      " 15  Number_of_Apps           93 non-null     float64\n",
      " 16  Visit_Duration           541 non-null    float64\n",
      " 17  Bounce_Rate              541 non-null    object \n",
      " 18  Monthly_Visits           541 non-null    float64\n",
      " 19  Monthly_Visits_Growth    430 non-null    object \n",
      " 20  Exit_status              621 non-null    float64\n",
      "dtypes: float64(9), int64(3), object(9)\n",
      "memory usage: 168.3+ KB\n"
     ]
    }
   ],
   "source": [
    "start_ups.info()"
   ]
  },
  {
   "cell_type": "code",
   "execution_count": 5,
   "id": "1e5487ba",
   "metadata": {
    "pycharm": {
     "name": "#%%\n"
    }
   },
   "outputs": [
    {
     "data": {
      "text/plain": [
       "Estimated_Revenue_Range      7\n",
       "Total_Funding_Amount       141\n",
       "Headquarters_Location       16\n",
       "Description                979\n",
       "Founded_Date                36\n",
       "Number_of_Founders           6\n",
       "Funding_Status               6\n",
       "Funding_Stage                9\n",
       "Number_Funding_Rounds        7\n",
       "Number_of_Investors         13\n",
       "Industries                 839\n",
       "Industry_Groups             33\n",
       "Sector_Size                  7\n",
       "Number_of_Employees          7\n",
       "Downloads_Last_30_Days      46\n",
       "Number_of_Apps              21\n",
       "Visit_Duration             324\n",
       "Bounce_Rate                 92\n",
       "Monthly_Visits             477\n",
       "Monthly_Visits_Growth      237\n",
       "Exit_status                  2\n",
       "dtype: int64"
      ]
     },
     "execution_count": 5,
     "metadata": {},
     "output_type": "execute_result"
    }
   ],
   "source": [
    "# less than 20 is categorical variable\n",
    "start_ups.nunique()"
   ]
  },
  {
   "cell_type": "code",
   "execution_count": 6,
   "id": "a6e01ea7",
   "metadata": {
    "pycharm": {
     "name": "#%%\n"
    }
   },
   "outputs": [
    {
     "data": {
      "image/png": "[encoded data removed]",
      "text/plain": [
       "<Figure size 2880x576 with 10 Axes>"
      ]
     },
     "metadata": {
      "needs_background": "light"
     },
     "output_type": "display_data"
    }
   ],
   "source": [
    "# Bar Chart for Categorical variable\n",
    "def PlotBarCharts(inpData, colsToPlot):\n",
    "   \n",
    "    # Generating multiple subplots\n",
    "    fig, subPlot=plt.subplots(nrows=1, ncols=len(colsToPlot), figsize=(40,8))\n",
    "    fig.suptitle('Bar charts of: '+ str(colsToPlot))\n",
    "\n",
    "    for colName, plotNumber in zip(colsToPlot, range(len(colsToPlot))):\n",
    "        inpData.groupby(colName).size().plot(kind='bar',ax=subPlot[plotNumber], cmap='winter')\n",
    "\n",
    "PlotBarCharts(inpData=start_ups, colsToPlot=[\"Estimated_Revenue_Range\", \"Headquarters_Location\", \"Number_of_Founders\",\n",
    "                                             \"Funding_Stage\", \"Number_Funding_Rounds\" , \"Number_of_Investors\",\n",
    "                                             \"Industry_Groups\", \"Sector_Size\", \"Number_of_Employees\", \"Exit_status\"]) "
   ]
  },
  {
   "cell_type": "markdown",
   "id": "7b21a246",
   "metadata": {
    "pycharm": {
     "name": "#%% md\n"
    }
   },
   "source": [
    "# <font color = lightgreenblue> 2) Missing Values Identification & Treatment "
   ]
  },
  {
   "cell_type": "markdown",
   "id": "02fce0f1",
   "metadata": {
    "pycharm": {
     "name": "#%% md\n"
    }
   },
   "source": [
    "## <font color =redblue> A. Identifying Missing Values"
   ]
  },
  {
   "cell_type": "code",
   "execution_count": 7,
   "id": "ce6d0e2a",
   "metadata": {
    "pycharm": {
     "name": "#%%\n"
    }
   },
   "outputs": [
    {
     "data": {
      "text/plain": [
       "Estimated_Revenue_Range    585\n",
       "Total_Funding_Amount       769\n",
       "Headquarters_Location        0\n",
       "Description                  0\n",
       "Founded_Date                 0\n",
       "Number_of_Founders         649\n",
       "Funding_Status             630\n",
       "Funding_Stage                0\n",
       "Number_Funding_Rounds      708\n",
       "Number_of_Investors        755\n",
       "Industries                  17\n",
       "Industry_Groups              0\n",
       "Sector_Size                  0\n",
       "Number_of_Employees          0\n",
       "Downloads_Last_30_Days     933\n",
       "Number_of_Apps             886\n",
       "Visit_Duration             438\n",
       "Bounce_Rate                438\n",
       "Monthly_Visits             438\n",
       "Monthly_Visits_Growth      549\n",
       "Exit_status                358\n",
       "dtype: int64"
      ]
     },
     "execution_count": 7,
     "metadata": {},
     "output_type": "execute_result"
    }
   ],
   "source": [
    "start_ups.isnull().sum() "
   ]
  },
  {
   "cell_type": "markdown",
   "id": "3918f265",
   "metadata": {
    "pycharm": {
     "name": "#%% md\n"
    }
   },
   "source": [
    "## <font color =redblue> B. Missing Values Treatment "
   ]
  },
  {
   "cell_type": "markdown",
   "id": "a69b3d94",
   "metadata": {
    "pycharm": {
     "name": "#%% md\n"
    }
   },
   "source": [
    "### Replace Missing value with suitable replacement based on the nature of the column"
   ]
  },
  {
   "cell_type": "code",
   "execution_count": 8,
   "id": "40edeeb1",
   "metadata": {
    "pycharm": {
     "name": "#%%\n"
    }
   },
   "outputs": [],
   "source": [
    "start_ups['Estimated_Revenue_Range'] = start_ups['Estimated_Revenue_Range'].replace({np.NaN :'5500000'})\n",
    "start_ups['Total_Funding_Amount'] = start_ups['Total_Funding_Amount'].replace({np.NaN :'800000'})\n",
    "start_ups['Number_of_Founders'] = start_ups['Number_of_Founders'].replace({np.NaN :'2'})\n",
    "start_ups['Number_Funding_Rounds'] = start_ups['Number_Funding_Rounds'].replace({np.NaN :'1'})\n",
    "start_ups['Number_of_Investors'] = start_ups['Number_of_Investors'].replace({np.NaN :'1'})\n",
    "start_ups['Number_of_Apps'] = start_ups['Number_of_Apps'].replace({np.NaN :'1'})\n",
    "start_ups['Visit_Duration'] = start_ups['Visit_Duration'].replace({np.NaN :'178'})\n",
    "start_ups['Bounce_Rate'] = start_ups['Bounce_Rate'].replace({np.NaN :'66.56%'})\n",
    "start_ups['Monthly_Visits'] = start_ups['Monthly_Visits'].replace({np.NaN :'1606'})\n",
    "start_ups['Monthly_Visits_Growth'] = start_ups['Monthly_Visits_Growth'].replace({np.NaN :'-7.12%'})\n",
    "start_ups['Exit_status'] = start_ups['Exit_status'].replace({np.NaN :'0'})"
   ]
  },
  {
   "cell_type": "markdown",
   "id": "d60fa674",
   "metadata": {
    "pycharm": {
     "name": "#%% md\n"
    }
   },
   "source": [
    "### Unifying Headquarter Location names\n"
   ]
  },
  {
   "cell_type": "code",
   "execution_count": 9,
   "id": "c5d93295",
   "metadata": {
    "pycharm": {
     "name": "#%%\n"
    }
   },
   "outputs": [
    {
     "name": "stdout",
     "output_type": "stream",
     "text": [
      "8\n"
     ]
    },
    {
     "data": {
      "text/plain": [
       "['Riyadh',\n",
       " 'Jeddah',\n",
       " 'Ash Sharqiyah',\n",
       " 'Hail',\n",
       " 'Asir Province',\n",
       " 'Jizan',\n",
       " 'Tabuk',\n",
       " 'Al Qasim ']"
      ]
     },
     "execution_count": 9,
     "metadata": {},
     "output_type": "execute_result"
    }
   ],
   "source": [
    "dict_start = {'Headquarters_Location': {'Riyad ':'Riyadh',\n",
    "                                        'Riyad':'Riyadh',\n",
    "                                        'Riyadh ':'Riyadh',\n",
    "                                        'Jeddah ':'Jeddah',\n",
    "                                        'Jedda':'Jeddah',\n",
    "                                        'Sharqiyah':'Ash Sharqiyah',\n",
    "                                        'Sharqiyah ':'Ash Sharqiyah',\n",
    "                                        'Ash Sharqiyah ':'Ash Sharqiyah'}}\n",
    "start_ups.replace(dict_start, inplace=True)\n",
    "print(start_ups[\"Headquarters_Location\"].value_counts().count())\n",
    "list(start_ups[\"Headquarters_Location\"].unique())"
   ]
  },
  {
   "cell_type": "code",
   "execution_count": 10,
   "id": "5a67d209",
   "metadata": {},
   "outputs": [
    {
     "name": "stdout",
     "output_type": "stream",
     "text": [
      "Funding_Stage levels: 9\n",
      "Industry_Groups levels: 33\n"
     ]
    },
    {
     "data": {
      "text/plain": [
       "['Food Delivery  ',\n",
       " 'E-Commerce',\n",
       " 'Financial Services',\n",
       " 'Artificial Intelligence',\n",
       " 'Food&Beverage ',\n",
       " 'EduTech',\n",
       " 'Transportation',\n",
       " 'HealthTech',\n",
       " 'Human Resources',\n",
       " 'Financial services ',\n",
       " 'FinTech',\n",
       " 'Media&Entertainment',\n",
       " 'Travel&Tourism ',\n",
       " 'Computer Vision',\n",
       " 'FintTech',\n",
       " 'Consumer Services',\n",
       " 'Sales&Marketing',\n",
       " 'Financial Services ',\n",
       " 'IT',\n",
       " 'Real Estate',\n",
       " 'Data Visualization',\n",
       " 'Logistics ',\n",
       " 'Data Analysis',\n",
       " 'Energy',\n",
       " 'Blockchain',\n",
       " 'Recruitment ',\n",
       " 'Insurtech',\n",
       " 'Business Intelligence',\n",
       " 'Telecommunication',\n",
       " 'Real Estate ',\n",
       " 'Consultancy  ',\n",
       " 'Healthtech',\n",
       " 'HealthTech ']"
      ]
     },
     "execution_count": 10,
     "metadata": {},
     "output_type": "execute_result"
    }
   ],
   "source": [
    "print(\"Funding_Stage levels:\",start_ups[\"Funding_Stage\"].value_counts().count())\n",
    "list(start_ups[\"Funding_Stage\"].unique())\n",
    "print(\"Industry_Groups levels:\",start_ups[\"Industry_Groups\"].value_counts().count())\n",
    "list(start_ups[\"Industry_Groups\"].unique())"
   ]
  },
  {
   "cell_type": "markdown",
   "id": "a4bda98b",
   "metadata": {
    "pycharm": {
     "name": "#%% md\n"
    }
   },
   "source": [
    "### Classifying Funding Stage in to three stages"
   ]
  },
  {
   "cell_type": "code",
   "execution_count": 11,
   "id": "8305c862",
   "metadata": {
    "pycharm": {
     "name": "#%%\n"
    }
   },
   "outputs": [
    {
     "name": "stdout",
     "output_type": "stream",
     "text": [
      "Early Stage    395\n",
      "Mid stage      371\n",
      "Late stage     213\n",
      "Name: Funding_Stage, dtype: int64\n"
     ]
    }
   ],
   "source": [
    "dict_start2 = {'Funding_Stage': {'Angel ': 'Early Stage', \n",
    "                                 'Angel': 'Early Stage',\n",
    "                                 'Early Stage ': 'Early Stage',\n",
    "                                 'Pre-Seed ' : 'Early Stage', \n",
    "                                 'Pre-Seed' : 'Early Stage',\n",
    "                                 'Early Stage ': 'Early Stage',\n",
    "                                 'Seed ': 'Early Stage', \n",
    "                                 'Seed': 'Early Stage', \n",
    "                                 'Early Stage ': 'Early Stage',\n",
    "                                 'Series A ': 'Mid stage', \n",
    "                                 'Series A': 'Mid stage',\n",
    "                                 'Mid stage ': 'Mid stage',\n",
    "                                 'Series B ': 'Mid Stage',\n",
    "                                 'Series B': 'Mid stage',\n",
    "                                 'Sereis B': 'Mid stage',\n",
    "                                 'Mid stage ': 'Mid stage',\n",
    "                                 'Series C ': 'Late Stage',\n",
    "                                 'Series C': 'Late stage',\n",
    "                                 'Sereis C': 'Late stage',\n",
    "                                 'Late stage ': 'Late stage'}}\n",
    "start_ups.replace(dict_start2, inplace=True)\n",
    "\n",
    "#To replace 'Undisclosed' category by mode.\n",
    "start_ups['Funding_Stage'] = start_ups['Funding_Stage'].replace({'Undisclosed': np.NaN})\n",
    "start_ups['Funding_Stage'] = start_ups['Funding_Stage'].fillna(start_ups['Funding_Stage'].value_counts().index[0])\n",
    "print(start_ups[\"Funding_Stage\"].value_counts())"
   ]
  },
  {
   "cell_type": "markdown",
   "id": "8081c8ca",
   "metadata": {
    "pycharm": {
     "name": "#%% md\n"
    }
   },
   "source": [
    "### Unifying Industry groups "
   ]
  },
  {
   "cell_type": "code",
   "execution_count": 12,
   "id": "5227d90f",
   "metadata": {
    "pycharm": {
     "name": "#%%\n"
    }
   },
   "outputs": [
    {
     "name": "stdout",
     "output_type": "stream",
     "text": [
      "15\n"
     ]
    },
    {
     "data": {
      "text/plain": [
       "['Food &Beverage ',\n",
       " 'E-Commerce',\n",
       " 'Financial Services',\n",
       " 'Artificial Intelligence',\n",
       " 'FMCG',\n",
       " 'EduTech',\n",
       " 'Travel&Toursim',\n",
       " 'HealthTech',\n",
       " 'Human Resources',\n",
       " 'Media&Entertainment',\n",
       " 'Sales&Marketing',\n",
       " 'IT',\n",
       " 'Real Estate',\n",
       " 'Energy',\n",
       " 'Telecommunication']"
      ]
     },
     "execution_count": 12,
     "metadata": {},
     "output_type": "execute_result"
    }
   ],
   "source": [
    "dict_start3 = {'Industry_Groups': {'Food Delivery  ': 'Food &Beverage ', \n",
    "                                   'Food Delivery ': 'Food &Beverage ',   \n",
    "                                   'FinTech ' : 'Financial Services', \n",
    "                                   'FinTech': 'Financial Services', \n",
    "                                   'FintTech' : 'Financial Services',\n",
    "                                   'Consultancy  ': 'Financial Services',\n",
    "                                   'Financial Services ' : 'Financial Services',\n",
    "                                   'Computer Vision ': 'Artificial Intelligence',\n",
    "                                   'Computer Vision': 'Artificial Intelligence',\n",
    "                                   'Data Visualization ': 'Artificial Intelligence', \n",
    "                                   'Data Visualization': 'Artificial Intelligence', \n",
    "                                   'Data Analysis': 'Artificial Intelligence',\n",
    "                                   'Blockchain ': 'Artificial Intelligence', \n",
    "                                   'Blockchain': 'Artificial Intelligence',\n",
    "                                   'Business Intelligence': 'Artificial Intelligence',\n",
    "                                   'Artificial Intelligenc' : 'Artificial Intelligence',\n",
    "                                   'Insurtech' : 'Artificial Intelligence',\n",
    "                                   'Recruitment ': 'Human Resources',\n",
    "                                   'Recruitment': 'Human Resources',\n",
    "                                   'Logistics ':'Travel&Toursim',\n",
    "                                   'Logistics':'Travel&Toursim',\n",
    "                                   'Transportation' : 'Travel&Toursim',\n",
    "                                   'Travel&Toursim ': 'Travel&Toursim',\n",
    "                                   'Travel&Tourism ': 'Travel&Toursim',\n",
    "                                   'Food&Beverage ' : 'FMCG',\n",
    "                                   'Food &Beverage ' : 'FMCG',\n",
    "                                   'Consumer Services': 'FMCG', \n",
    "                                   'Healthtech' : 'HealthTech',\n",
    "                                   'HealthTech ' : 'HealthTech',\n",
    "                                   'Financial services ': 'Financial Services',\n",
    "                                   'Financial Services ': 'Financial Services', \n",
    "                                    'Real Estate ': 'Real Estate'}}\n",
    "start_ups.replace(dict_start3, inplace=True)\n",
    "\n",
    "print(start_ups['Industry_Groups'].value_counts().count()) # To know the number of categories in the variable.\n",
    "list(start_ups['Industry_Groups'].unique())"
   ]
  },
  {
   "cell_type": "markdown",
   "id": "b2df1531",
   "metadata": {
    "pycharm": {
     "name": "#%% md\n"
    }
   },
   "source": [
    "## Based on Domain Knowledge:\n",
    "#### 1- Omitting Irrelevenat predictors \n",
    "#### 2- Remove Start_ups that were Founded before 2014"
   ]
  },
  {
   "cell_type": "code",
   "execution_count": 13,
   "id": "d11a936c",
   "metadata": {
    "pycharm": {
     "name": "#%%\n"
    }
   },
   "outputs": [
    {
     "data": {
      "text/plain": [
       "(451, 17)"
      ]
     },
     "execution_count": 13,
     "metadata": {},
     "output_type": "execute_result"
    }
   ],
   "source": [
    "start_ups = start_ups.drop(columns = ['Description', 'Funding_Status', 'Industries', 'Downloads_Last_30_Days'])\n",
    "\n",
    "start_ups_14 = start_ups.query('Founded_Date >2014')\n",
    "start_ups_14.shape"
   ]
  },
  {
   "cell_type": "code",
   "execution_count": 14,
   "id": "2c530611",
   "metadata": {
    "pycharm": {
     "name": "#%%\n"
    }
   },
   "outputs": [
    {
     "data": {
      "text/plain": [
       "Estimated_Revenue_Range    0\n",
       "Total_Funding_Amount       0\n",
       "Headquarters_Location      0\n",
       "Founded_Date               0\n",
       "Number_of_Founders         0\n",
       "Funding_Stage              0\n",
       "Number_Funding_Rounds      0\n",
       "Number_of_Investors        0\n",
       "Industry_Groups            0\n",
       "Sector_Size                0\n",
       "Number_of_Employees        0\n",
       "Number_of_Apps             0\n",
       "Visit_Duration             0\n",
       "Bounce_Rate                0\n",
       "Monthly_Visits             0\n",
       "Monthly_Visits_Growth      0\n",
       "Exit_status                0\n",
       "dtype: int64"
      ]
     },
     "execution_count": 14,
     "metadata": {},
     "output_type": "execute_result"
    }
   ],
   "source": [
    "# Douple check the missing values \n",
    "start_ups_14.isnull().sum()  "
   ]
  },
  {
   "cell_type": "code",
   "execution_count": 15,
   "id": "7d3ff263",
   "metadata": {
    "pycharm": {
     "name": "#%%\n"
    }
   },
   "outputs": [],
   "source": [
    "start_ups_14['Bounce_Rate'] = start_ups_14['Bounce_Rate'].str.rstrip(\"%\")\n",
    "start_ups_14['Monthly_Visits_Growth'] = start_ups_14['Monthly_Visits_Growth'].str.rstrip(\"%\")\n",
    "start_ups_14['Estimated_Revenue_Range'] = start_ups_14['Estimated_Revenue_Range'].astype(float)\n",
    "start_ups_14['Total_Funding_Amount'] = start_ups_14['Total_Funding_Amount'].astype(float)\n",
    "start_ups_14['Number_of_Founders'] = start_ups_14['Number_of_Founders'].astype(int)\n",
    "start_ups_14['Number_Funding_Rounds'] = start_ups_14['Number_Funding_Rounds'].astype(int)\n",
    "start_ups_14['Number_of_Investors'] = start_ups_14['Number_of_Investors'].astype(int)\n",
    "start_ups_14['Number_of_Apps'] = start_ups_14['Number_of_Apps'].astype(int)\n",
    "start_ups_14['Visit_Duration'] = start_ups_14['Visit_Duration'].astype(float)\n",
    "start_ups_14['Bounce_Rate'] = start_ups_14['Bounce_Rate'].astype(float)\n",
    "start_ups_14['Monthly_Visits'] = start_ups_14['Monthly_Visits'].astype(float)\n",
    "start_ups_14['Monthly_Visits_Growth'] = start_ups_14['Monthly_Visits_Growth'].astype(float)\n",
    "start_ups_14['Sector_Size'] = start_ups_14['Sector_Size'].astype(float)\n",
    "start_ups_14['Exit_status'] = start_ups_14['Exit_status'].astype(int)"
   ]
  },
  {
   "cell_type": "markdown",
   "id": "4a829e23",
   "metadata": {
    "pycharm": {
     "name": "#%% md\n"
    }
   },
   "source": [
    "## <font color =redblue> Visual Exploratory after missing value treatment  "
   ]
  },
  {
   "cell_type": "markdown",
   "id": "fd8e70b0",
   "metadata": {
    "pycharm": {
     "name": "#%% md\n"
    }
   },
   "source": [
    "### Target Variable Distribution"
   ]
  },
  {
   "cell_type": "code",
   "execution_count": 16,
   "id": "d63aa2a4",
   "metadata": {
    "pycharm": {
     "name": "#%%\n"
    }
   },
   "outputs": [
    {
     "data": {
      "text/plain": [
       "<AxesSubplot:xlabel='Exit_status'>"
      ]
     },
     "execution_count": 16,
     "metadata": {},
     "output_type": "execute_result"
    },
    {
     "data": {
      "image/png": "[encoded data removed]",
      "text/plain": [
       "<Figure size 288x216 with 1 Axes>"
      ]
     },
     "metadata": {
      "needs_background": "light"
     },
     "output_type": "display_data"
    }
   ],
   "source": [
    "%matplotlib inline\n",
    "GroupedData=start_ups_14.groupby('Exit_status').size()\n",
    "GroupedData.plot(kind='bar', figsize=(4,3), cmap='winter')"
   ]
  },
  {
   "cell_type": "code",
   "execution_count": 17,
   "id": "5bd69ed4",
   "metadata": {
    "pycharm": {
     "name": "#%%\n"
    }
   },
   "outputs": [
    {
     "data": {
      "image/png": "[encoded data removed]",
      "text/plain": [
       "<Figure size 1080x1440 with 17 Axes>"
      ]
     },
     "metadata": {
      "needs_background": "light"
     },
     "output_type": "display_data"
    }
   ],
   "source": [
    "colors = list(mcolors.CSS4_COLORS.keys())[10:]\n",
    "def draw_histograms(dataframe, features, rows, cols):\n",
    "    fig=plt.figure(figsize=(15,20))\n",
    "    for i, feature in enumerate(features):\n",
    "        ax=fig.add_subplot(rows,cols,i+1)\n",
    "        dataframe[feature].hist(bins=20,ax=ax,facecolor=colors[i])\n",
    "        ax.set_title(feature+\" Histogram\",color=colors[35])\n",
    "        ax.set_yscale('log')\n",
    "    fig.tight_layout() \n",
    "    plt.savefig('Histograms.png')\n",
    "    plt.show()\n",
    "    \n",
    "draw_histograms(start_ups_14,start_ups_14.columns,10,5)"
   ]
  },
  {
   "cell_type": "markdown",
   "id": "d0fbc193",
   "metadata": {
    "pycharm": {
     "name": "#%% md\n"
    }
   },
   "source": [
    "# <font color = lightgreenblue> 3) Outliers Detection & Treatment "
   ]
  },
  {
   "cell_type": "markdown",
   "id": "e9b720ee",
   "metadata": {
    "pycharm": {
     "name": "#%% md\n"
    }
   },
   "source": [
    "### <font color =redblue>A. Outlier Detection "
   ]
  },
  {
   "cell_type": "code",
   "execution_count": 18,
   "id": "caac35d8",
   "metadata": {
    "pycharm": {
     "name": "#%%\n"
    }
   },
   "outputs": [
    {
     "data": {
      "image/png": "[encoded data removed]",
      "text/plain": [
       "<Figure size 432x288 with 11 Axes>"
      ]
     },
     "metadata": {
      "needs_background": "light"
     },
     "output_type": "display_data"
    }
   ],
   "source": [
    "fig, axs = plt.subplots(1, 11)\n",
    "\n",
    "axs[0].boxplot(start_ups_14['Estimated_Revenue_Range'].apply(lambda x: float(x)), 1, 'gD')\n",
    "axs[0].set_title('Estimated_Revenue_Range')\n",
    "\n",
    "axs[1].boxplot(start_ups_14['Total_Funding_Amount'].apply(lambda x: float(x)), 1, 'gD')\n",
    "axs[1].set_title('Total_Funding_Amount')\n",
    "\n",
    "axs[2].boxplot(start_ups_14['Number_of_Founders'].apply(lambda x: float(x)), 1, 'gD')\n",
    "axs[2].set_title('Number_of_Founders')\n",
    "\n",
    "axs[3].boxplot(start_ups_14['Number_Funding_Rounds'].apply(lambda x: float(x)), 1, 'gD')\n",
    "axs[3].set_title('Number_Funding_Rounds')\n",
    "\n",
    "axs[4].boxplot(start_ups_14['Number_of_Investors'].apply(lambda x: float(x)), 1, 'gD')\n",
    "axs[4].set_title('Number_of_Investors')\n",
    "\n",
    "axs[5].boxplot(start_ups_14['Sector_Size'].apply(lambda x: float(x)), 1, 'gD')\n",
    "axs[5].set_title('Sector_Size')\n",
    "\n",
    "axs[6].boxplot(start_ups_14['Number_of_Employees'].apply(lambda x: float(x)), 1, 'gD')\n",
    "axs[6].set_title('Number_of_Employees')\n",
    "\n",
    "axs[7].boxplot(start_ups_14['Number_of_Apps'].apply(lambda x: float(x)), 1, 'gD')\n",
    "axs[7].set_title('Number_of_Apps') \n",
    "\n",
    "axs[8].boxplot(start_ups_14['Visit_Duration'].apply(lambda x: float(x)), 1, 'gD')\n",
    "axs[8].set_title('Visit_Duration')\n",
    "\n",
    "axs[9].boxplot(start_ups_14['Bounce_Rate'].apply(lambda x: float(x)), 1, 'gD')\n",
    "axs[9].set_title('Bounce_Rate')\n",
    "\n",
    "axs[10].boxplot(start_ups_14['Monthly_Visits_Growth'].apply(lambda x: float(x)), 1, 'gD')\n",
    "axs[10].set_title('Monthly_Visits_Growth')\n",
    "\n",
    "\n",
    "\n",
    "fig.subplots_adjust(left=0.06, right=3.70, bottom=0.05, top=0.9,\n",
    "                    hspace=0.7, wspace=0.9)"
   ]
  },
  {
   "cell_type": "code",
   "execution_count": 19,
   "id": "6fe8d052",
   "metadata": {
    "pycharm": {
     "name": "#%%\n"
    }
   },
   "outputs": [],
   "source": [
    "start_ups_14['Estimated_Revenue_Range'] = start_ups_14['Estimated_Revenue_Range'].astype('int64')\n",
    "start_ups_14['Estimated_Revenue_Range_z'] = stats.zscore(start_ups_14['Estimated_Revenue_Range'])\n",
    "\n",
    "start_ups_14['Total_Funding_Amount'] = start_ups_14['Total_Funding_Amount'].astype('int64')\n",
    "start_ups_14['Total_Funding_Amount_z'] = stats.zscore(start_ups_14['Total_Funding_Amount'])\n",
    "\n",
    "start_ups_14['Number_of_Founders'] = start_ups_14['Number_of_Founders'].astype('int64')\n",
    "start_ups_14['Number_of_Founders_z'] = stats.zscore(start_ups_14['Number_of_Founders'])\n",
    "\n",
    "start_ups_14['Number_Funding_Rounds'] = start_ups_14['Number_Funding_Rounds'].astype('int64')\n",
    "start_ups_14['Number_Funding_Rounds_z'] = stats.zscore(start_ups_14['Number_Funding_Rounds'])\n",
    "\n",
    "start_ups_14['Number_of_Investors'] = start_ups_14['Number_of_Investors'].astype('int64')\n",
    "start_ups_14['Number_of_Investors_z'] = stats.zscore(start_ups_14['Number_of_Investors'])\n",
    "\n",
    "start_ups_14['Sector_Size'] = start_ups_14['Sector_Size'].astype('int64')\n",
    "start_ups_14['Sector_Size_z'] = stats.zscore(start_ups_14['Sector_Size'])\n",
    "\n",
    "start_ups_14['Number_of_Employees'] = start_ups_14['Number_of_Employees'].astype('int64')\n",
    "start_ups_14['Number_of_Employees_z'] = stats.zscore(start_ups_14['Number_of_Employees'])\n",
    "\n",
    "start_ups_14['Number_of_Apps'] = start_ups_14['Number_of_Apps'].astype('int64')\n",
    "start_ups_14['Number_of_Apps_z'] = stats.zscore(start_ups_14['Number_of_Apps'])\n",
    "\n",
    "start_ups_14['Visit_Duration'] = start_ups_14['Visit_Duration'].astype('int64')\n",
    "start_ups_14['Visit_Duration_z'] = stats.zscore(start_ups_14['Visit_Duration'])\n",
    "\n",
    "start_ups_14['Monthly_Visits'] = start_ups_14['Monthly_Visits'].astype('int64')\n",
    "start_ups_14['Monthly_Visits_z'] = stats.zscore(start_ups_14['Monthly_Visits'])\n",
    "\n",
    "start_ups_14['Bounce_Rate'] = start_ups_14['Bounce_Rate'].astype('int64')\n",
    "start_ups_14['Bounce_Rate_z'] = stats.zscore(start_ups_14['Bounce_Rate'])\n",
    "\n",
    "start_ups_14['Monthly_Visits_Growth'] = start_ups_14['Monthly_Visits_Growth'].astype('int64')\n",
    "start_ups_14['Monthly_Visits_Growth_z'] = stats.zscore(start_ups_14['Monthly_Visits_Growth'])"
   ]
  },
  {
   "cell_type": "markdown",
   "id": "be040993",
   "metadata": {
    "pycharm": {
     "name": "#%% md\n"
    }
   },
   "source": [
    "### <font color =redblue> B. Outliers Treatment"
   ]
  },
  {
   "cell_type": "code",
   "execution_count": 20,
   "id": "8ee3bbcb",
   "metadata": {},
   "outputs": [
    {
     "name": "stdout",
     "output_type": "stream",
     "text": [
      "capping the  Estimated_Revenue_Range\n",
      "capping the  Total_Funding_Amount\n",
      "capping the  Headquarters_Location\n",
      "capping the  Founded_Date\n",
      "capping the  Number_of_Founders\n",
      "capping the  Funding_Stage\n",
      "capping the  Number_Funding_Rounds\n",
      "capping the  Number_of_Investors\n",
      "capping the  Industry_Groups\n",
      "capping the  Sector_Size\n",
      "capping the  Number_of_Employees\n",
      "capping the  Number_of_Apps\n",
      "capping the  Visit_Duration\n",
      "capping the  Bounce_Rate\n",
      "capping the  Monthly_Visits\n",
      "capping the  Monthly_Visits_Growth\n",
      "capping the  Exit_status\n",
      "capping the  Estimated_Revenue_Range_z\n",
      "capping the  Total_Funding_Amount_z\n",
      "capping the  Number_of_Founders_z\n",
      "capping the  Number_Funding_Rounds_z\n",
      "capping the  Number_of_Investors_z\n",
      "capping the  Sector_Size_z\n",
      "capping the  Number_of_Employees_z\n",
      "capping the  Number_of_Apps_z\n",
      "capping the  Visit_Duration_z\n",
      "capping the  Monthly_Visits_z\n",
      "capping the  Bounce_Rate_z\n",
      "capping the  Monthly_Visits_Growth_z\n"
     ]
    }
   ],
   "source": [
    "def cap_data(df):\n",
    "    for col in df.columns:\n",
    "        print(\"capping the \",col)\n",
    "        if (((df[col].dtype)=='float64') | ((df[col].dtype)=='int64')):\n",
    "            outliers = stats.zscore(df[col])\n",
    "            df[col][outliers < -3] = statistics.median(df[col])\n",
    "            df[col][outliers >  3] = statistics.median(df[col])\n",
    "        else:\n",
    "            df[col]=df[col]\n",
    "    return df\n",
    "\n",
    "start_ups_14=cap_data(start_ups_14)"
   ]
  },
  {
   "cell_type": "markdown",
   "id": "a1a35d11",
   "metadata": {
    "pycharm": {
     "name": "#%%\n"
    }
   },
   "source": [
    "start_ups_14['Estimated_Revenue_Range'][(start_ups_14['Estimated_Revenue_Range_z'] >3) | (start_ups_14['Estimated_Revenue_Range_z'] <-3)] = statistics.median(start_ups_14['Estimated_Revenue_Range']) \n",
    "\n",
    "start_ups_14['Total_Funding_Amount'][(start_ups_14['Total_Funding_Amount_z'] >3) | (start_ups_14['Total_Funding_Amount_z'] <-3)] = statistics.median(start_ups_14['Total_Funding_Amount'])\n",
    "\n",
    "start_ups_14['Number_of_Founders'][(start_ups_14['Number_of_Founders_z'] >3) | (start_ups_14['Number_of_Founders_z'] <-3)] = statistics.median(start_ups_14['Number_of_Founders'])\n",
    "\n",
    "start_ups_14['Number_Funding_Rounds'][(start_ups_14['Number_Funding_Rounds_z'] >3) | (start_ups_14['Number_Funding_Rounds_z'] <-3)] = statistics.median(start_ups_14['Number_Funding_Rounds'])\n",
    "\n",
    "start_ups_14['Number_of_Investors'][(start_ups_14['Number_of_Investors_z'] >3) | (start_ups_14['Number_of_Investors_z'] <-3)] = statistics.median(start_ups_14['Number_of_Investors'])\n",
    "\n",
    "start_ups_14['Sector_Size'][(start_ups_14['Sector_Size_z'] >3) | (start_ups_14['Sector_Size_z'] <-3)] = statistics.median(start_ups_14['Sector_Size'])\n",
    "\n",
    "start_ups_14['Number_of_Employees'][(start_ups_14['Number_of_Employees_z'] >3) | (start_ups_14['Number_of_Employees_z'] <-3)] = statistics.median(start_ups_14['Number_of_Employees'])\n",
    "\n",
    "start_ups_14['Number_of_Apps'][(start_ups_14['Number_of_Apps_z'] >3) | (start_ups_14['Number_of_Apps_z'] <-3)] = statistics.median(start_ups_14['Number_of_Apps'])\n",
    "\n",
    "start_ups_14['Visit_Duration'][(start_ups_14['Visit_Duration_z'] >3) | (start_ups_14['Visit_Duration_z'] <-3)] = statistics.median(start_ups_14['Visit_Duration'])\n",
    "\n",
    "start_ups_14['Monthly_Visits'][(start_ups_14['Monthly_Visits_z'] >3) | (start_ups_14['Monthly_Visits_z'] <-3)] = statistics.median(start_ups_14['Monthly_Visits'])\n",
    "\n",
    "start_ups_14['Bounce_Rate'][(start_ups_14['Bounce_Rate_z'] >3) | (start_ups_14['Bounce_Rate_z'] <-3)] = statistics.median(start_ups_14['Bounce_Rate'])\n",
    "\n",
    "start_ups_14['Monthly_Visits_Growth'][(start_ups_14['Monthly_Visits_Growth_z'] >3) | (start_ups_14['Monthly_Visits_Growth_z'] <-3)] = statistics.median(start_ups_14['Monthly_Visits_Growth'])"
   ]
  },
  {
   "cell_type": "markdown",
   "id": "54d9cef9",
   "metadata": {},
   "source": [
    "fig, axs = plt.subplots(1, 11)\n",
    "\n",
    "axs[0].boxplot(start_ups_14['Estimated_Revenue_Range'].apply(lambda x: float(x)), 1, 'gD')\n",
    "axs[0].set_title('Estimated_Revenue_Range')\n",
    "\n",
    "axs[1].boxplot(start_ups_14['Total_Funding_Amount'].apply(lambda x: float(x)), 1, 'gD')\n",
    "axs[1].set_title('Total_Funding_Amount')\n",
    "\n",
    "axs[2].boxplot(start_ups_14['Number_of_Founders'].apply(lambda x: float(x)), 1, 'gD')\n",
    "axs[2].set_title('Number_of_Founders')\n",
    "\n",
    "axs[3].boxplot(start_ups_14['Number_Funding_Rounds'].apply(lambda x: float(x)), 1, 'gD')\n",
    "axs[3].set_title('Number_Funding_Rounds')\n",
    "\n",
    "axs[4].boxplot(start_ups_14['Number_of_Investors'].apply(lambda x: float(x)), 1, 'gD')\n",
    "axs[4].set_title('Number_of_Investors')\n",
    "\n",
    "axs[5].boxplot(start_ups_14['Sector_Size'].apply(lambda x: float(x)), 1, 'gD')\n",
    "axs[5].set_title('Sector_Size')\n",
    "\n",
    "axs[6].boxplot(start_ups_14['Number_of_Employees'].apply(lambda x: float(x)), 1, 'gD')\n",
    "axs[6].set_title('Number_of_Employees')\n",
    "\n",
    "axs[7].boxplot(start_ups_14['Number_of_Apps'].apply(lambda x: float(x)), 1, 'gD')\n",
    "axs[7].set_title('Number_of_Apps') \n",
    "\n",
    "axs[8].boxplot(start_ups_14['Visit_Duration'].apply(lambda x: float(x)), 1, 'gD')\n",
    "axs[8].set_title('Visit_Duration')\n",
    "\n",
    "axs[9].boxplot(start_ups_14['Bounce_Rate'].apply(lambda x: float(x)), 1, 'gD')\n",
    "axs[9].set_title('Bounce_Rate')\n",
    "\n",
    "axs[10].boxplot(start_ups_14['Monthly_Visits_Growth'].apply(lambda x: float(x)), 1, 'gD')\n",
    "axs[10].set_title('Monthly_Visits_Growth')\n",
    "\n",
    "\n",
    "\n",
    "fig.subplots_adjust(left=0.06, right=3.70, bottom=0.05, top=0.9,\n",
    "                    hspace=0.7, wspace=0.9)"
   ]
  },
  {
   "cell_type": "code",
   "execution_count": 21,
   "id": "96c1ce46",
   "metadata": {
    "pycharm": {
     "name": "#%%\n"
    }
   },
   "outputs": [
    {
     "data": {
      "text/plain": [
       "(451, 17)"
      ]
     },
     "execution_count": 21,
     "metadata": {},
     "output_type": "execute_result"
    }
   ],
   "source": [
    "start_ups_14 = start_ups_14[['Estimated_Revenue_Range', 'Total_Funding_Amount',\n",
    "       'Headquarters_Location', 'Founded_Date', 'Number_of_Founders',\n",
    "       'Funding_Stage', 'Number_Funding_Rounds', 'Number_of_Investors',\n",
    "       'Industry_Groups', 'Sector_Size', 'Number_of_Employees',\n",
    "       'Number_of_Apps', 'Visit_Duration', 'Bounce_Rate', 'Monthly_Visits',\n",
    "       'Monthly_Visits_Growth', 'Exit_status']]\n",
    "start_ups_14.shape"
   ]
  },
  {
   "cell_type": "markdown",
   "id": "81503cc6",
   "metadata": {
    "pycharm": {
     "name": "#%% md\n"
    }
   },
   "source": [
    "# <font color = lightgreenblue> 4) Relationship exploration\n",
    "### <font color =redblue>  A. Test Exit_Status Vs Continuous Variables corrolation using ANOVA test"
   ]
  },
  {
   "cell_type": "code",
   "execution_count": 22,
   "id": "fa9f79a3",
   "metadata": {
    "pycharm": {
     "name": "#%%\n"
    }
   },
   "outputs": [],
   "source": [
    "def FunctionAnova(inpData, TargetVariable, ContinuousPredictorList):\n",
    "    \n",
    "    # Creating an empty list of final selected predictors\n",
    "    SelectedPredictors=[]\n",
    "    \n",
    "    print('##### ANOVA Results ##### \\n')\n",
    "    for predictor in ContinuousPredictorList:\n",
    "        CategoryGroupLists=inpData.groupby(TargetVariable)[predictor].apply(list)\n",
    "        AnovaResults = f_oneway(*CategoryGroupLists)\n",
    "        \n",
    "        # If the ANOVA P-Value is <0.05, that means we reject H0\n",
    "        if (AnovaResults[1] < 0.05):\n",
    "            print(predictor, 'is correlated with', TargetVariable, '| P-Value:', AnovaResults[1])\n",
    "            SelectedPredictors.append(predictor)\n",
    "        else:\n",
    "            print(predictor, 'is NOT correlated with', TargetVariable, '| P-Value:', AnovaResults[1])\n",
    "    \n",
    "    return(SelectedPredictors)"
   ]
  },
  {
   "cell_type": "code",
   "execution_count": 23,
   "id": "55b9aaa9",
   "metadata": {
    "pycharm": {
     "name": "#%%\n"
    }
   },
   "outputs": [],
   "source": [
    "Continuous = ['Estimated_Revenue_Range', 'Total_Funding_Amount','Founded_Date', \n",
    "               'Number_of_Founders','Number_Funding_Rounds', 'Number_of_Investors',\n",
    "               'Sector_Size', 'Number_of_Employees','Number_of_Apps', 'Visit_Duration', \n",
    "               'Bounce_Rate', 'Monthly_Visits','Monthly_Visits_Growth']"
   ]
  },
  {
   "cell_type": "code",
   "execution_count": 24,
   "id": "9a40fe21",
   "metadata": {
    "pycharm": {
     "name": "#%%\n"
    }
   },
   "outputs": [
    {
     "name": "stdout",
     "output_type": "stream",
     "text": [
      "##### ANOVA Results ##### \n",
      "\n",
      "Estimated_Revenue_Range is correlated with Exit_status | P-Value: 6.655771574908889e-15\n",
      "Total_Funding_Amount is NOT correlated with Exit_status | P-Value: 0.18370871979630454\n",
      "Founded_Date is NOT correlated with Exit_status | P-Value: 0.1625352995304685\n",
      "Number_of_Founders is correlated with Exit_status | P-Value: 0.044069283441257955\n",
      "Number_Funding_Rounds is NOT correlated with Exit_status | P-Value: 0.08655398780751543\n",
      "Number_of_Investors is correlated with Exit_status | P-Value: 0.04433926510739028\n",
      "Sector_Size is NOT correlated with Exit_status | P-Value: 0.45771984608971206\n",
      "Number_of_Employees is NOT correlated with Exit_status | P-Value: 0.06059284249439139\n",
      "Number_of_Apps is NOT correlated with Exit_status | P-Value: 0.4667842442772092\n",
      "Visit_Duration is NOT correlated with Exit_status | P-Value: 0.7296078889949089\n",
      "Bounce_Rate is NOT correlated with Exit_status | P-Value: 0.1774014248103408\n",
      "Monthly_Visits is NOT correlated with Exit_status | P-Value: 0.6565712481746618\n",
      "Monthly_Visits_Growth is NOT correlated with Exit_status | P-Value: 0.2959424322095213\n"
     ]
    },
    {
     "data": {
      "text/plain": [
       "['Estimated_Revenue_Range', 'Number_of_Founders', 'Number_of_Investors']"
      ]
     },
     "execution_count": 24,
     "metadata": {},
     "output_type": "execute_result"
    }
   ],
   "source": [
    "# Calling the function to check which categorical variables are correlated with target\n",
    "FunctionAnova(inpData=start_ups_14, TargetVariable='Exit_status', ContinuousPredictorList= Continuous)"
   ]
  },
  {
   "cell_type": "markdown",
   "id": "ed07779e",
   "metadata": {
    "pycharm": {
     "name": "#%% md\n"
    }
   },
   "source": [
    "### <font color =redblue> B. Test Exit_Status Vs Categorical Variables corrolation using Chi-Square Test"
   ]
  },
  {
   "cell_type": "code",
   "execution_count": 25,
   "id": "226d654c",
   "metadata": {
    "pycharm": {
     "name": "#%%\n"
    }
   },
   "outputs": [],
   "source": [
    "def FunctionChisq(inpData, TargetVariable, CategoricalVariablesList):\n",
    "    \n",
    "    # Creating an empty list of final selected predictors\n",
    "    SelectedPredictors=[]\n",
    "\n",
    "    for predictor in CategoricalVariablesList:\n",
    "        CrossTabResult=pd.crosstab(index=inpData[TargetVariable], columns=inpData[predictor])\n",
    "        ChiSqResult = chi2_contingency(CrossTabResult)\n",
    "        \n",
    "        # If the ChiSq P-Value is <0.05, that means we reject H0\n",
    "        if (ChiSqResult[1] < 0.05):\n",
    "            print(predictor, 'is correlated with', TargetVariable, '| P-Value:', ChiSqResult[1])\n",
    "            SelectedPredictors.append(predictor)\n",
    "        else:\n",
    "            print(predictor, 'is NOT correlated with', TargetVariable, '| P-Value:', ChiSqResult[1])        \n",
    "            \n",
    "    return(SelectedPredictors)"
   ]
  },
  {
   "cell_type": "code",
   "execution_count": 26,
   "id": "a638a0a9",
   "metadata": {
    "pycharm": {
     "name": "#%%\n"
    }
   },
   "outputs": [
    {
     "name": "stdout",
     "output_type": "stream",
     "text": [
      "Headquarters_Location is correlated with Exit_status | P-Value: 0.020387177874081786\n",
      "Funding_Stage is NOT correlated with Exit_status | P-Value: 0.6493807534930975\n",
      "Industry_Groups is NOT correlated with Exit_status | P-Value: 0.6873470907504291\n"
     ]
    },
    {
     "data": {
      "text/plain": [
       "['Headquarters_Location']"
      ]
     },
     "execution_count": 26,
     "metadata": {},
     "output_type": "execute_result"
    }
   ],
   "source": [
    "Categorical = ['Headquarters_Location', 'Funding_Stage', 'Industry_Groups']\n",
    "\n",
    "FunctionChisq(inpData=start_ups_14, TargetVariable='Exit_status', CategoricalVariablesList= Categorical)"
   ]
  },
  {
   "cell_type": "markdown",
   "id": "bf53f391",
   "metadata": {
    "pycharm": {
     "name": "#%% md\n"
    }
   },
   "source": [
    "# <font color = lightgreenblue>  5) Partitioning the Data"
   ]
  },
  {
   "cell_type": "code",
   "execution_count": 27,
   "id": "2cd02d0d",
   "metadata": {
    "scrolled": true
   },
   "outputs": [
    {
     "data": {
      "text/plain": [
       "2022"
      ]
     },
     "execution_count": 27,
     "metadata": {},
     "output_type": "execute_result"
    }
   ],
   "source": [
    "max(start_ups_14['Founded_Date'])"
   ]
  },
  {
   "cell_type": "code",
   "execution_count": 28,
   "id": "48e10fb3",
   "metadata": {},
   "outputs": [
    {
     "data": {
      "text/plain": [
       "Artificial Intelligence    81\n",
       "Financial Services         65\n",
       "E-Commerce                 63\n",
       "Travel&Toursim             49\n",
       "IT                         40\n",
       "FMCG                       35\n",
       "HealthTech                 25\n",
       "Sales&Marketing            25\n",
       "Media&Entertainment        17\n",
       "Real Estate                15\n",
       "EduTech                    15\n",
       "Human Resources            12\n",
       "Energy                      6\n",
       "Food &Beverage              3\n",
       "Name: Industry_Groups, dtype: int64"
      ]
     },
     "execution_count": 28,
     "metadata": {},
     "output_type": "execute_result"
    }
   ],
   "source": [
    "start_ups_14['Industry_Groups'].value_counts()"
   ]
  },
  {
   "cell_type": "code",
   "execution_count": 29,
   "id": "71771b01",
   "metadata": {
    "pycharm": {
     "name": "#%%\n"
    }
   },
   "outputs": [],
   "source": [
    "start_ups_14 = pd.get_dummies (start_ups_14, columns=['Headquarters_Location', 'Funding_Stage', 'Industry_Groups'])"
   ]
  },
  {
   "cell_type": "code",
   "execution_count": 30,
   "id": "1bd40b27",
   "metadata": {
    "pycharm": {
     "name": "#%%\n"
    }
   },
   "outputs": [],
   "source": [
    "predictors = ['Estimated_Revenue_Range', 'Total_Funding_Amount', 'Founded_Date',\n",
    "       'Number_of_Founders', 'Number_Funding_Rounds', 'Number_of_Investors',\n",
    "       'Sector_Size', 'Number_of_Employees', \n",
    "       'Visit_Duration', 'Bounce_Rate', 'Monthly_Visits',\n",
    "       'Monthly_Visits_Growth', \n",
    "       'Headquarters_Location_Al Qasim ',\n",
    "       'Headquarters_Location_Ash Sharqiyah',\n",
    "       'Headquarters_Location_Asir Province', 'Headquarters_Location_Hail',\n",
    "       'Headquarters_Location_Jeddah', 'Headquarters_Location_Jizan',\n",
    "       'Headquarters_Location_Riyadh', 'Funding_Stage_Early Stage',\n",
    "       'Funding_Stage_Late stage', 'Funding_Stage_Mid stage',\n",
    "       'Industry_Groups_Artificial Intelligence', 'Industry_Groups_E-Commerce',\n",
    "       'Industry_Groups_EduTech', 'Industry_Groups_Energy',\n",
    "       'Industry_Groups_FMCG', 'Industry_Groups_Financial Services',\n",
    "       'Industry_Groups_Food &Beverage ', 'Industry_Groups_HealthTech',\n",
    "       'Industry_Groups_Human Resources', 'Industry_Groups_IT',\n",
    "       'Industry_Groups_Media&Entertainment', 'Industry_Groups_Real Estate',\n",
    "       'Industry_Groups_Sales&Marketing', 'Industry_Groups_Travel&Toursim']\n",
    "\n",
    "outcome = 'Exit_status'\n",
    "\n",
    "X= start_ups_14[predictors]\n",
    "y= start_ups_14[outcome]\n",
    "\n",
    "# Scale the data\n",
    "PredictorScaler=StandardScaler()\n",
    "\n",
    "# Storing the fit object for later reference\n",
    "PredictorScalerFit=PredictorScaler.fit(X)\n",
    "\n",
    "# Generating the standardized values of X\n",
    "X=PredictorScalerFit.transform(X)\n",
    "\n",
    "X_train, X_test, y_train, y_test = train_test_split(X, y, test_size=0.4, random_state=0)"
   ]
  },
  {
   "cell_type": "code",
   "execution_count": 31,
   "id": "5f84cc1a",
   "metadata": {
    "pycharm": {
     "name": "#%%\n"
    }
   },
   "outputs": [
    {
     "data": {
      "text/plain": [
       "0    238\n",
       "1     32\n",
       "Name: Exit_status, dtype: int64"
      ]
     },
     "execution_count": 31,
     "metadata": {},
     "output_type": "execute_result"
    }
   ],
   "source": [
    "y_train.value_counts()"
   ]
  },
  {
   "cell_type": "code",
   "execution_count": 32,
   "id": "805a08dc",
   "metadata": {
    "pycharm": {
     "name": "#%%\n"
    }
   },
   "outputs": [
    {
     "data": {
      "text/plain": [
       "0    166\n",
       "1     15\n",
       "Name: Exit_status, dtype: int64"
      ]
     },
     "execution_count": 32,
     "metadata": {},
     "output_type": "execute_result"
    }
   ],
   "source": [
    "y_test.value_counts()"
   ]
  },
  {
   "cell_type": "markdown",
   "id": "7fc77b14",
   "metadata": {
    "pycharm": {
     "name": "#%% md\n"
    }
   },
   "source": [
    "### <font color =redblue> Oversampling Training set"
   ]
  },
  {
   "cell_type": "code",
   "execution_count": 33,
   "id": "fb5f5126",
   "metadata": {
    "pycharm": {
     "name": "#%%\n"
    }
   },
   "outputs": [
    {
     "name": "stdout",
     "output_type": "stream",
     "text": [
      "Counter({0: 238, 1: 238})\n",
      "Counter({0: 238, 1: 238})\n"
     ]
    }
   ],
   "source": [
    "# Oversample training data\n",
    "sm = SMOTE(random_state = 2)\n",
    "X_train, y_train = sm.fit_resample(X_train, y_train.ravel())\n",
    "\n",
    "# class distribution\n",
    "print(Counter(y_train))\n",
    "# new class distribution \n",
    "print(Counter(y_train))"
   ]
  },
  {
   "cell_type": "code",
   "execution_count": 34,
   "id": "49222f6e",
   "metadata": {},
   "outputs": [
    {
     "data": {
      "text/plain": [
       "array([[-0.26385466, -0.21809641,  0.28531035, ..., -0.18548226,\n",
       "        -0.24225079, -0.34912827],\n",
       "       [-0.26385466, -0.21809641, -1.58859695, ..., -0.18548226,\n",
       "        -0.24225079, -0.34912827],\n",
       "       [-0.31440148, -0.30977353, -0.96396118, ..., -0.18548226,\n",
       "        -0.24225079, -0.34912827],\n",
       "       ...,\n",
       "       [ 0.25433501, -0.21809641, -0.93987925, ..., -0.18548226,\n",
       "        -0.24225079, -0.34912827],\n",
       "       [ 0.43579803, -0.21809641, -0.33932542, ..., -0.18548226,\n",
       "        -0.24225079, -0.34912827],\n",
       "       [-0.16030735, -0.21809641, -1.52993989, ..., -0.18548226,\n",
       "        -0.24225079, -0.34912827]])"
      ]
     },
     "execution_count": 34,
     "metadata": {},
     "output_type": "execute_result"
    }
   ],
   "source": [
    "X_train"
   ]
  },
  {
   "cell_type": "markdown",
   "id": "e843735d",
   "metadata": {
    "pycharm": {
     "name": "#%% md\n"
    }
   },
   "source": [
    "# <font color = lightnavy> 6) Multiple Prediction Models "
   ]
  },
  {
   "cell_type": "code",
   "execution_count": 35,
   "id": "fe60d011",
   "metadata": {
    "pycharm": {
     "name": "#%%\n"
    }
   },
   "outputs": [],
   "source": [
    "# Function to compute the detailed confusion matrix\n",
    "def model_eval(matrix,model_name):\n",
    "    tn = matrix.iloc[0,0]\n",
    "    tp = matrix.iloc[1,1]\n",
    "    fn = matrix.iloc[1,0]\n",
    "    fp = matrix.iloc[0,1]\n",
    "    tap = fn+tp\n",
    "    tan = tn+fp\n",
    "    tpn = tn+fn\n",
    "    tpp = fp+tp\n",
    "    precision = tp/tpp\n",
    "    recall = tp/tap\n",
    "    total = tn+tp+fn+fp\n",
    "\n",
    "    data = [ \n",
    "    round((tp+tn)/total,4), \n",
    "    round(1-((tp+tn)/total),4),\n",
    "    round(tp/tap,4),\n",
    "    round(tn/tan,4),\n",
    "    round(precision,4),\n",
    "    round(2 * (precision * recall) / (precision + recall),4),\n",
    "    round(5 * (precision * recall) / ((4 * precision) + recall),4), \n",
    "    round(1.25 * (precision * recall) / ((.25 * precision) + recall),4)  \n",
    " ] \n",
    "    return( \n",
    "pd.DataFrame(data, columns=[model_name], \n",
    "             index=['Accuracy','ErrorRate','Sensitivity','Specificity','Precision','F1','F2','F3']) \n",
    ")"
   ]
  },
  {
   "cell_type": "code",
   "execution_count": 36,
   "id": "11f3779b",
   "metadata": {
    "pycharm": {
     "name": "#%%\n"
    }
   },
   "outputs": [],
   "source": [
    "# Function to predict using training and validation data\n",
    "def model_predict(train_X, train_y, valid_X, valid_y, model_name, label):\n",
    "    train_predict = model_name.predict(train_X)\n",
    "    train_con_table = pd.crosstab(train_y, train_predict)\n",
    "    train_Model = model_eval(train_con_table,model_name = label +'_Train') \n",
    "\n",
    "    valid_predict = model_name.predict(valid_X)\n",
    "    valid_con_table = pd.crosstab(valid_y, valid_predict)\n",
    "    valid_Model = model_eval(valid_con_table,model_name = label +'_Valid') \n",
    "\n",
    "    return pd.concat([train_Model, valid_Model], axis=1)"
   ]
  },
  {
   "cell_type": "markdown",
   "id": "17cb6545",
   "metadata": {
    "pycharm": {
     "name": "#%% md\n"
    }
   },
   "source": [
    "## <font color =redblue> 1. Random Forest\n",
    "### <font color =redblue> Starting with RF to exploare the Feature Importance "
   ]
  },
  {
   "cell_type": "code",
   "execution_count": 37,
   "id": "50045660",
   "metadata": {
    "pycharm": {
     "name": "#%%\n"
    }
   },
   "outputs": [
    {
     "data": {
      "text/html": [
       "<div>\n",
       "<style scoped>\n",
       "    .dataframe tbody tr th:only-of-type {\n",
       "        vertical-align: middle;\n",
       "    }\n",
       "\n",
       "    .dataframe tbody tr th {\n",
       "        vertical-align: top;\n",
       "    }\n",
       "\n",
       "    .dataframe thead th {\n",
       "        text-align: right;\n",
       "    }\n",
       "</style>\n",
       "<table border=\"1\" class=\"dataframe\">\n",
       "  <thead>\n",
       "    <tr style=\"text-align: right;\">\n",
       "      <th></th>\n",
       "      <th>RF_Train</th>\n",
       "      <th>RF_Valid</th>\n",
       "    </tr>\n",
       "  </thead>\n",
       "  <tbody>\n",
       "    <tr>\n",
       "      <th>Accuracy</th>\n",
       "      <td>0.9097</td>\n",
       "      <td>0.7514</td>\n",
       "    </tr>\n",
       "    <tr>\n",
       "      <th>ErrorRate</th>\n",
       "      <td>0.0903</td>\n",
       "      <td>0.2486</td>\n",
       "    </tr>\n",
       "    <tr>\n",
       "      <th>Sensitivity</th>\n",
       "      <td>0.9412</td>\n",
       "      <td>0.6000</td>\n",
       "    </tr>\n",
       "    <tr>\n",
       "      <th>Specificity</th>\n",
       "      <td>0.8782</td>\n",
       "      <td>0.7651</td>\n",
       "    </tr>\n",
       "    <tr>\n",
       "      <th>Precision</th>\n",
       "      <td>0.8854</td>\n",
       "      <td>0.1875</td>\n",
       "    </tr>\n",
       "    <tr>\n",
       "      <th>F1</th>\n",
       "      <td>0.9124</td>\n",
       "      <td>0.2857</td>\n",
       "    </tr>\n",
       "    <tr>\n",
       "      <th>F2</th>\n",
       "      <td>0.9295</td>\n",
       "      <td>0.4167</td>\n",
       "    </tr>\n",
       "    <tr>\n",
       "      <th>F3</th>\n",
       "      <td>0.8960</td>\n",
       "      <td>0.2174</td>\n",
       "    </tr>\n",
       "  </tbody>\n",
       "</table>\n",
       "</div>"
      ],
      "text/plain": [
       "             RF_Train  RF_Valid\n",
       "Accuracy       0.9097    0.7514\n",
       "ErrorRate      0.0903    0.2486\n",
       "Sensitivity    0.9412    0.6000\n",
       "Specificity    0.8782    0.7651\n",
       "Precision      0.8854    0.1875\n",
       "F1             0.9124    0.2857\n",
       "F2             0.9295    0.4167\n",
       "F3             0.8960    0.2174"
      ]
     },
     "execution_count": 37,
     "metadata": {},
     "output_type": "execute_result"
    }
   ],
   "source": [
    "RF = RandomForestClassifier(max_depth=3, n_estimators=100)\n",
    "RF.fit(X_train, y_train)\n",
    "RF_model = model_predict(X_train, y_train, X_test, y_test, RF, 'RF')\n",
    "RF_model"
   ]
  },
  {
   "cell_type": "code",
   "execution_count": 38,
   "id": "abcb7e4f",
   "metadata": {
    "pycharm": {
     "name": "#%%\n"
    }
   },
   "outputs": [
    {
     "data": {
      "image/png": "[encoded data removed]",
      "text/plain": [
       "<Figure size 432x288 with 2 Axes>"
      ]
     },
     "metadata": {
      "needs_background": "light"
     },
     "output_type": "display_data"
    }
   ],
   "source": [
    "plot_confusion_matrix(RF, X_test, y_test, cmap = 'Blues')\n",
    "plt.title('RF Confusion matrix / testing data')\n",
    "plt.show()"
   ]
  },
  {
   "cell_type": "code",
   "execution_count": 39,
   "id": "dcf0cebc",
   "metadata": {
    "pycharm": {
     "name": "#%%\n"
    },
    "scrolled": true
   },
   "outputs": [
    {
     "name": "stdout",
     "output_type": "stream",
     "text": [
      "                                    feature  importance\n",
      "17              Headquarters_Location_Jizan    0.000000\n",
      "14      Headquarters_Location_Asir Province    0.000000\n",
      "12          Headquarters_Location_Al Qasim     0.000000\n",
      "30          Industry_Groups_Human Resources    0.000000\n",
      "28          Industry_Groups_Food &Beverage     0.000000\n",
      "27       Industry_Groups_Financial Services    0.000209\n",
      "25                   Industry_Groups_Energy    0.000232\n",
      "26                     Industry_Groups_FMCG    0.000335\n",
      "15               Headquarters_Location_Hail    0.000792\n",
      "32      Industry_Groups_Media&Entertainment    0.002011\n",
      "33              Industry_Groups_Real Estate    0.002012\n",
      "29               Industry_Groups_HealthTech    0.002354\n",
      "31                       Industry_Groups_IT    0.002598\n",
      "34          Industry_Groups_Sales&Marketing    0.003670\n",
      "16             Headquarters_Location_Jeddah    0.003798\n",
      "20                 Funding_Stage_Late stage    0.004430\n",
      "13      Headquarters_Location_Ash Sharqiyah    0.005030\n",
      "24                  Industry_Groups_EduTech    0.005572\n",
      "35           Industry_Groups_Travel&Toursim    0.006247\n",
      "22  Industry_Groups_Artificial Intelligence    0.006857\n",
      "6                               Sector_Size    0.007752\n",
      "8                            Visit_Duration    0.012636\n",
      "18             Headquarters_Location_Riyadh    0.014648\n",
      "4                     Number_Funding_Rounds    0.020992\n",
      "21                  Funding_Stage_Mid stage    0.026778\n",
      "11                    Monthly_Visits_Growth    0.029953\n",
      "5                       Number_of_Investors    0.030086\n",
      "9                               Bounce_Rate    0.030403\n",
      "19                Funding_Stage_Early Stage    0.033950\n",
      "10                           Monthly_Visits    0.035964\n",
      "23               Industry_Groups_E-Commerce    0.037499\n",
      "1                      Total_Funding_Amount    0.063545\n",
      "7                       Number_of_Employees    0.068647\n",
      "3                        Number_of_Founders    0.118027\n",
      "2                              Founded_Date    0.135038\n",
      "0                   Estimated_Revenue_Range    0.287934\n"
     ]
    }
   ],
   "source": [
    "X_train_std = pd.DataFrame(X_train, columns=predictors)\n",
    "RF.fit(X_train_std, y_train)\n",
    "importances = RF.feature_importances_\n",
    "df = pd.DataFrame({'feature':pd.DataFrame(X_train_std).columns, 'importance': importances})\n",
    "df = df.sort_values('importance')\n",
    "print(df)"
   ]
  },
  {
   "cell_type": "code",
   "execution_count": 40,
   "id": "cbe1cf2b",
   "metadata": {},
   "outputs": [
    {
     "data": {
      "text/plain": [
       "Text(0.5, 0, 'Random Forest Feature Importance')"
      ]
     },
     "execution_count": 40,
     "metadata": {},
     "output_type": "execute_result"
    },
    {
     "data": {
      "image/png": "[encoded data removed]",
      "text/plain": [
       "<Figure size 1600x800 with 1 Axes>"
      ]
     },
     "metadata": {
      "needs_background": "light"
     },
     "output_type": "display_data"
    }
   ],
   "source": [
    "sorted_idx = RF.feature_importances_.argsort()\n",
    "plt.figure(figsize=(20, 10), dpi=80)\n",
    "plt.barh(X_train_std.columns[sorted_idx], RF.feature_importances_[sorted_idx])\n",
    "plt.xlabel(\"Random Forest Feature Importance\")"
   ]
  },
  {
   "cell_type": "markdown",
   "id": "7855dec7",
   "metadata": {
    "pycharm": {
     "name": "#%% md\n"
    }
   },
   "source": [
    "## <font color =darkblue> Statistically we conclude that these features are the most important;                                                         \n",
    "#### <font color =darkblue> Estimated_Revenue_Range , Number_of_Founders , Number_of_Employees , Monthly_Visits , Founded_Date                  \n",
    "#### <font color =darkblue> However, based on domain knowledge we decided to keep the other features that was included during the partition step "
   ]
  },
  {
   "cell_type": "markdown",
   "id": "917752f5",
   "metadata": {
    "pycharm": {
     "name": "#%% md\n"
    }
   },
   "source": [
    "## <font color =redblue> 2. Naive Bayes"
   ]
  },
  {
   "cell_type": "code",
   "execution_count": 41,
   "id": "484d0ef4",
   "metadata": {
    "pycharm": {
     "name": "#%%\n"
    }
   },
   "outputs": [
    {
     "data": {
      "text/html": [
       "<div>\n",
       "<style scoped>\n",
       "    .dataframe tbody tr th:only-of-type {\n",
       "        vertical-align: middle;\n",
       "    }\n",
       "\n",
       "    .dataframe tbody tr th {\n",
       "        vertical-align: top;\n",
       "    }\n",
       "\n",
       "    .dataframe thead th {\n",
       "        text-align: right;\n",
       "    }\n",
       "</style>\n",
       "<table border=\"1\" class=\"dataframe\">\n",
       "  <thead>\n",
       "    <tr style=\"text-align: right;\">\n",
       "      <th></th>\n",
       "      <th>NB_Train</th>\n",
       "      <th>NB_Valid</th>\n",
       "    </tr>\n",
       "  </thead>\n",
       "  <tbody>\n",
       "    <tr>\n",
       "      <th>Accuracy</th>\n",
       "      <td>0.6744</td>\n",
       "      <td>0.3425</td>\n",
       "    </tr>\n",
       "    <tr>\n",
       "      <th>ErrorRate</th>\n",
       "      <td>0.3256</td>\n",
       "      <td>0.6575</td>\n",
       "    </tr>\n",
       "    <tr>\n",
       "      <th>Sensitivity</th>\n",
       "      <td>0.9916</td>\n",
       "      <td>0.6000</td>\n",
       "    </tr>\n",
       "    <tr>\n",
       "      <th>Specificity</th>\n",
       "      <td>0.3571</td>\n",
       "      <td>0.3193</td>\n",
       "    </tr>\n",
       "    <tr>\n",
       "      <th>Precision</th>\n",
       "      <td>0.6067</td>\n",
       "      <td>0.0738</td>\n",
       "    </tr>\n",
       "    <tr>\n",
       "      <th>F1</th>\n",
       "      <td>0.7528</td>\n",
       "      <td>0.1314</td>\n",
       "    </tr>\n",
       "    <tr>\n",
       "      <th>F2</th>\n",
       "      <td>0.8799</td>\n",
       "      <td>0.2473</td>\n",
       "    </tr>\n",
       "    <tr>\n",
       "      <th>F3</th>\n",
       "      <td>0.6577</td>\n",
       "      <td>0.0895</td>\n",
       "    </tr>\n",
       "  </tbody>\n",
       "</table>\n",
       "</div>"
      ],
      "text/plain": [
       "             NB_Train  NB_Valid\n",
       "Accuracy       0.6744    0.3425\n",
       "ErrorRate      0.3256    0.6575\n",
       "Sensitivity    0.9916    0.6000\n",
       "Specificity    0.3571    0.3193\n",
       "Precision      0.6067    0.0738\n",
       "F1             0.7528    0.1314\n",
       "F2             0.8799    0.2473\n",
       "F3             0.6577    0.0895"
      ]
     },
     "execution_count": 41,
     "metadata": {},
     "output_type": "execute_result"
    }
   ],
   "source": [
    "NB = GaussianNB()\n",
    "NB.fit(X_train, y_train)\n",
    "NB_model = model_predict(X_train, y_train, X_test, y_test, NB, 'NB')\n",
    "NB_model"
   ]
  },
  {
   "cell_type": "code",
   "execution_count": 42,
   "id": "71f63aef",
   "metadata": {
    "pycharm": {
     "name": "#%%\n"
    }
   },
   "outputs": [
    {
     "data": {
      "image/png": "[encoded data removed]",
      "text/plain": [
       "<Figure size 432x288 with 2 Axes>"
      ]
     },
     "metadata": {
      "needs_background": "light"
     },
     "output_type": "display_data"
    }
   ],
   "source": [
    "plot_confusion_matrix(NB, X_test, y_test, cmap= 'Blues')\n",
    "plt.title('NB Confusion matrix / testing data')\n",
    "plt.show()"
   ]
  },
  {
   "cell_type": "markdown",
   "id": "d55906cf-5118-4430-8504-5133368876ec",
   "metadata": {
    "pycharm": {
     "name": "#%% md\n"
    }
   },
   "source": [
    "## <font color =redblue> 3. Logistic Regression "
   ]
  },
  {
   "cell_type": "code",
   "execution_count": 43,
   "id": "d5be5a19",
   "metadata": {
    "pycharm": {
     "name": "#%%\n"
    }
   },
   "outputs": [
    {
     "data": {
      "text/html": [
       "<div>\n",
       "<style scoped>\n",
       "    .dataframe tbody tr th:only-of-type {\n",
       "        vertical-align: middle;\n",
       "    }\n",
       "\n",
       "    .dataframe tbody tr th {\n",
       "        vertical-align: top;\n",
       "    }\n",
       "\n",
       "    .dataframe thead th {\n",
       "        text-align: right;\n",
       "    }\n",
       "</style>\n",
       "<table border=\"1\" class=\"dataframe\">\n",
       "  <thead>\n",
       "    <tr style=\"text-align: right;\">\n",
       "      <th></th>\n",
       "      <th>LR_Train</th>\n",
       "      <th>LR_Valid</th>\n",
       "    </tr>\n",
       "  </thead>\n",
       "  <tbody>\n",
       "    <tr>\n",
       "      <th>Accuracy</th>\n",
       "      <td>0.8067</td>\n",
       "      <td>0.7238</td>\n",
       "    </tr>\n",
       "    <tr>\n",
       "      <th>ErrorRate</th>\n",
       "      <td>0.1933</td>\n",
       "      <td>0.2762</td>\n",
       "    </tr>\n",
       "    <tr>\n",
       "      <th>Sensitivity</th>\n",
       "      <td>0.8487</td>\n",
       "      <td>0.4667</td>\n",
       "    </tr>\n",
       "    <tr>\n",
       "      <th>Specificity</th>\n",
       "      <td>0.7647</td>\n",
       "      <td>0.7470</td>\n",
       "    </tr>\n",
       "    <tr>\n",
       "      <th>Precision</th>\n",
       "      <td>0.7829</td>\n",
       "      <td>0.1429</td>\n",
       "    </tr>\n",
       "    <tr>\n",
       "      <th>F1</th>\n",
       "      <td>0.8145</td>\n",
       "      <td>0.2187</td>\n",
       "    </tr>\n",
       "    <tr>\n",
       "      <th>F2</th>\n",
       "      <td>0.8347</td>\n",
       "      <td>0.3211</td>\n",
       "    </tr>\n",
       "    <tr>\n",
       "      <th>F3</th>\n",
       "      <td>0.7953</td>\n",
       "      <td>0.1659</td>\n",
       "    </tr>\n",
       "  </tbody>\n",
       "</table>\n",
       "</div>"
      ],
      "text/plain": [
       "             LR_Train  LR_Valid\n",
       "Accuracy       0.8067    0.7238\n",
       "ErrorRate      0.1933    0.2762\n",
       "Sensitivity    0.8487    0.4667\n",
       "Specificity    0.7647    0.7470\n",
       "Precision      0.7829    0.1429\n",
       "F1             0.8145    0.2187\n",
       "F2             0.8347    0.3211\n",
       "F3             0.7953    0.1659"
      ]
     },
     "execution_count": 43,
     "metadata": {},
     "output_type": "execute_result"
    }
   ],
   "source": [
    "LR = LogisticRegression(C=1,penalty='l2', solver='newton-cg')\n",
    "LR.fit(X_train, y_train)\n",
    "LR_model = model_predict(X_train, y_train, X_test, y_test, LR, 'LR')\n",
    "LR_model"
   ]
  },
  {
   "cell_type": "code",
   "execution_count": 44,
   "id": "2a7e6851",
   "metadata": {
    "pycharm": {
     "name": "#%%\n"
    }
   },
   "outputs": [
    {
     "data": {
      "image/png": "[encoded data removed]",
      "text/plain": [
       "<Figure size 432x288 with 2 Axes>"
      ]
     },
     "metadata": {
      "needs_background": "light"
     },
     "output_type": "display_data"
    }
   ],
   "source": [
    "plot_confusion_matrix(LR, X_test, y_test, cmap='Blues')\n",
    "plt.title('LR Confusion matrix / testing data')\n",
    "plt.show()"
   ]
  },
  {
   "cell_type": "markdown",
   "id": "131a2a5c",
   "metadata": {
    "pycharm": {
     "name": "#%% md\n"
    }
   },
   "source": [
    "## <font color =redblue> 4. K-Nearest Neighbor (KNN) "
   ]
  },
  {
   "cell_type": "code",
   "execution_count": 45,
   "id": "441bb752",
   "metadata": {
    "pycharm": {
     "name": "#%%\n"
    }
   },
   "outputs": [
    {
     "data": {
      "text/html": [
       "<div>\n",
       "<style scoped>\n",
       "    .dataframe tbody tr th:only-of-type {\n",
       "        vertical-align: middle;\n",
       "    }\n",
       "\n",
       "    .dataframe tbody tr th {\n",
       "        vertical-align: top;\n",
       "    }\n",
       "\n",
       "    .dataframe thead th {\n",
       "        text-align: right;\n",
       "    }\n",
       "</style>\n",
       "<table border=\"1\" class=\"dataframe\">\n",
       "  <thead>\n",
       "    <tr style=\"text-align: right;\">\n",
       "      <th></th>\n",
       "      <th>KNN_Train</th>\n",
       "      <th>KNN_Valid</th>\n",
       "    </tr>\n",
       "  </thead>\n",
       "  <tbody>\n",
       "    <tr>\n",
       "      <th>Accuracy</th>\n",
       "      <td>0.9559</td>\n",
       "      <td>0.7956</td>\n",
       "    </tr>\n",
       "    <tr>\n",
       "      <th>ErrorRate</th>\n",
       "      <td>0.0441</td>\n",
       "      <td>0.2044</td>\n",
       "    </tr>\n",
       "    <tr>\n",
       "      <th>Sensitivity</th>\n",
       "      <td>1.0000</td>\n",
       "      <td>0.2667</td>\n",
       "    </tr>\n",
       "    <tr>\n",
       "      <th>Specificity</th>\n",
       "      <td>0.9118</td>\n",
       "      <td>0.8434</td>\n",
       "    </tr>\n",
       "    <tr>\n",
       "      <th>Precision</th>\n",
       "      <td>0.9189</td>\n",
       "      <td>0.1333</td>\n",
       "    </tr>\n",
       "    <tr>\n",
       "      <th>F1</th>\n",
       "      <td>0.9577</td>\n",
       "      <td>0.1778</td>\n",
       "    </tr>\n",
       "    <tr>\n",
       "      <th>F2</th>\n",
       "      <td>0.9827</td>\n",
       "      <td>0.2222</td>\n",
       "    </tr>\n",
       "    <tr>\n",
       "      <th>F3</th>\n",
       "      <td>0.9341</td>\n",
       "      <td>0.1481</td>\n",
       "    </tr>\n",
       "  </tbody>\n",
       "</table>\n",
       "</div>"
      ],
      "text/plain": [
       "             KNN_Train  KNN_Valid\n",
       "Accuracy        0.9559     0.7956\n",
       "ErrorRate       0.0441     0.2044\n",
       "Sensitivity     1.0000     0.2667\n",
       "Specificity     0.9118     0.8434\n",
       "Precision       0.9189     0.1333\n",
       "F1              0.9577     0.1778\n",
       "F2              0.9827     0.2222\n",
       "F3              0.9341     0.1481"
      ]
     },
     "execution_count": 45,
     "metadata": {},
     "output_type": "execute_result"
    }
   ],
   "source": [
    "KNN = KNeighborsClassifier(n_neighbors=3)\n",
    "KNN.fit(X_train, y_train)\n",
    "KNN_model = model_predict(X_train, y_train, X_test, y_test, KNN, 'KNN')\n",
    "KNN_model"
   ]
  },
  {
   "cell_type": "code",
   "execution_count": 46,
   "id": "a5247ad2",
   "metadata": {
    "pycharm": {
     "name": "#%%\n"
    }
   },
   "outputs": [
    {
     "data": {
      "image/png": "[encoded data removed]",
      "text/plain": [
       "<Figure size 432x288 with 2 Axes>"
      ]
     },
     "metadata": {
      "needs_background": "light"
     },
     "output_type": "display_data"
    }
   ],
   "source": [
    "plot_confusion_matrix(KNN, X_test, y_test, cmap='Blues')\n",
    "plt.title('LR Confusion matrix / testing data')\n",
    "plt.show()"
   ]
  },
  {
   "cell_type": "markdown",
   "id": "268189d7",
   "metadata": {
    "pycharm": {
     "name": "#%% md\n"
    }
   },
   "source": [
    "## <font color =redblue> 5. SVM"
   ]
  },
  {
   "cell_type": "code",
   "execution_count": 47,
   "id": "e46dafed",
   "metadata": {
    "pycharm": {
     "name": "#%%\n"
    }
   },
   "outputs": [
    {
     "data": {
      "text/html": [
       "<div>\n",
       "<style scoped>\n",
       "    .dataframe tbody tr th:only-of-type {\n",
       "        vertical-align: middle;\n",
       "    }\n",
       "\n",
       "    .dataframe tbody tr th {\n",
       "        vertical-align: top;\n",
       "    }\n",
       "\n",
       "    .dataframe thead th {\n",
       "        text-align: right;\n",
       "    }\n",
       "</style>\n",
       "<table border=\"1\" class=\"dataframe\">\n",
       "  <thead>\n",
       "    <tr style=\"text-align: right;\">\n",
       "      <th></th>\n",
       "      <th>SVM_Train</th>\n",
       "      <th>SVM_Valid</th>\n",
       "    </tr>\n",
       "  </thead>\n",
       "  <tbody>\n",
       "    <tr>\n",
       "      <th>Accuracy</th>\n",
       "      <td>0.8151</td>\n",
       "      <td>0.6796</td>\n",
       "    </tr>\n",
       "    <tr>\n",
       "      <th>ErrorRate</th>\n",
       "      <td>0.1849</td>\n",
       "      <td>0.3204</td>\n",
       "    </tr>\n",
       "    <tr>\n",
       "      <th>Sensitivity</th>\n",
       "      <td>0.8824</td>\n",
       "      <td>0.6667</td>\n",
       "    </tr>\n",
       "    <tr>\n",
       "      <th>Specificity</th>\n",
       "      <td>0.7479</td>\n",
       "      <td>0.6807</td>\n",
       "    </tr>\n",
       "    <tr>\n",
       "      <th>Precision</th>\n",
       "      <td>0.7778</td>\n",
       "      <td>0.1587</td>\n",
       "    </tr>\n",
       "    <tr>\n",
       "      <th>F1</th>\n",
       "      <td>0.8268</td>\n",
       "      <td>0.2564</td>\n",
       "    </tr>\n",
       "    <tr>\n",
       "      <th>F2</th>\n",
       "      <td>0.8592</td>\n",
       "      <td>0.4065</td>\n",
       "    </tr>\n",
       "    <tr>\n",
       "      <th>F3</th>\n",
       "      <td>0.7967</td>\n",
       "      <td>0.1873</td>\n",
       "    </tr>\n",
       "  </tbody>\n",
       "</table>\n",
       "</div>"
      ],
      "text/plain": [
       "             SVM_Train  SVM_Valid\n",
       "Accuracy        0.8151     0.6796\n",
       "ErrorRate       0.1849     0.3204\n",
       "Sensitivity     0.8824     0.6667\n",
       "Specificity     0.7479     0.6807\n",
       "Precision       0.7778     0.1587\n",
       "F1              0.8268     0.2564\n",
       "F2              0.8592     0.4065\n",
       "F3              0.7967     0.1873"
      ]
     },
     "execution_count": 47,
     "metadata": {},
     "output_type": "execute_result"
    }
   ],
   "source": [
    "SVM = svm.SVC(kernel='linear', probability=True)\n",
    "SVM.fit(X_train, y_train)\n",
    "SVM_model = model_predict(X_train, y_train, X_test, y_test, SVM, 'SVM')\n",
    "SVM_model"
   ]
  },
  {
   "cell_type": "code",
   "execution_count": 48,
   "id": "cc719492",
   "metadata": {
    "pycharm": {
     "name": "#%%\n"
    }
   },
   "outputs": [
    {
     "data": {
      "image/png": "[encoded data removed]",
      "text/plain": [
       "<Figure size 432x288 with 2 Axes>"
      ]
     },
     "metadata": {
      "needs_background": "light"
     },
     "output_type": "display_data"
    }
   ],
   "source": [
    "plot_confusion_matrix(SVM, X_test, y_test, cmap='Blues')\n",
    "plt.title('svm Confusion matrix / testing data')\n",
    "plt.show()"
   ]
  },
  {
   "cell_type": "markdown",
   "id": "4f3f7a42-9a1f-4dcb-9de7-3c0c5e9d3070",
   "metadata": {
    "pycharm": {
     "name": "#%% md\n"
    }
   },
   "source": [
    "## <font color =redblue> 6. Decision Trees "
   ]
  },
  {
   "cell_type": "code",
   "execution_count": 49,
   "id": "4a197074",
   "metadata": {
    "pycharm": {
     "name": "#%%\n"
    }
   },
   "outputs": [
    {
     "data": {
      "text/html": [
       "<div>\n",
       "<style scoped>\n",
       "    .dataframe tbody tr th:only-of-type {\n",
       "        vertical-align: middle;\n",
       "    }\n",
       "\n",
       "    .dataframe tbody tr th {\n",
       "        vertical-align: top;\n",
       "    }\n",
       "\n",
       "    .dataframe thead th {\n",
       "        text-align: right;\n",
       "    }\n",
       "</style>\n",
       "<table border=\"1\" class=\"dataframe\">\n",
       "  <thead>\n",
       "    <tr style=\"text-align: right;\">\n",
       "      <th></th>\n",
       "      <th>DT_Train</th>\n",
       "      <th>DT_Valid</th>\n",
       "    </tr>\n",
       "  </thead>\n",
       "  <tbody>\n",
       "    <tr>\n",
       "      <th>Accuracy</th>\n",
       "      <td>0.9118</td>\n",
       "      <td>0.8729</td>\n",
       "    </tr>\n",
       "    <tr>\n",
       "      <th>ErrorRate</th>\n",
       "      <td>0.0882</td>\n",
       "      <td>0.1271</td>\n",
       "    </tr>\n",
       "    <tr>\n",
       "      <th>Sensitivity</th>\n",
       "      <td>0.8613</td>\n",
       "      <td>0.5333</td>\n",
       "    </tr>\n",
       "    <tr>\n",
       "      <th>Specificity</th>\n",
       "      <td>0.9622</td>\n",
       "      <td>0.9036</td>\n",
       "    </tr>\n",
       "    <tr>\n",
       "      <th>Precision</th>\n",
       "      <td>0.9579</td>\n",
       "      <td>0.3333</td>\n",
       "    </tr>\n",
       "    <tr>\n",
       "      <th>F1</th>\n",
       "      <td>0.9071</td>\n",
       "      <td>0.4103</td>\n",
       "    </tr>\n",
       "    <tr>\n",
       "      <th>F2</th>\n",
       "      <td>0.8791</td>\n",
       "      <td>0.4762</td>\n",
       "    </tr>\n",
       "    <tr>\n",
       "      <th>F3</th>\n",
       "      <td>0.9369</td>\n",
       "      <td>0.3604</td>\n",
       "    </tr>\n",
       "  </tbody>\n",
       "</table>\n",
       "</div>"
      ],
      "text/plain": [
       "             DT_Train  DT_Valid\n",
       "Accuracy       0.9118    0.8729\n",
       "ErrorRate      0.0882    0.1271\n",
       "Sensitivity    0.8613    0.5333\n",
       "Specificity    0.9622    0.9036\n",
       "Precision      0.9579    0.3333\n",
       "F1             0.9071    0.4103\n",
       "F2             0.8791    0.4762\n",
       "F3             0.9369    0.3604"
      ]
     },
     "execution_count": 49,
     "metadata": {},
     "output_type": "execute_result"
    }
   ],
   "source": [
    "DT = tree.DecisionTreeClassifier(max_depth=4,criterion='gini')\n",
    "DT.fit(X_train, y_train)\n",
    "DT_model = model_predict(X_train, y_train, X_test, y_test, DT, 'DT')\n",
    "DT_model"
   ]
  },
  {
   "cell_type": "code",
   "execution_count": 50,
   "id": "3c78320d",
   "metadata": {
    "pycharm": {
     "name": "#%%\n"
    }
   },
   "outputs": [
    {
     "data": {
      "image/png": "[encoded data removed]",
      "text/plain": [
       "<Figure size 432x288 with 2 Axes>"
      ]
     },
     "metadata": {
      "needs_background": "light"
     },
     "output_type": "display_data"
    }
   ],
   "source": [
    "plot_confusion_matrix(DT, X_test, y_test, cmap='Blues')\n",
    "plt.title('DT Confusion matrix / testing data')\n",
    "plt.show()"
   ]
  },
  {
   "cell_type": "markdown",
   "id": "18db3012",
   "metadata": {
    "pycharm": {
     "name": "#%% md\n"
    }
   },
   "source": [
    "## <font color =redblue> 7. XGBoost"
   ]
  },
  {
   "cell_type": "code",
   "execution_count": 51,
   "id": "1212f986",
   "metadata": {
    "pycharm": {
     "name": "#%%\n"
    }
   },
   "outputs": [
    {
     "data": {
      "text/html": [
       "<div>\n",
       "<style scoped>\n",
       "    .dataframe tbody tr th:only-of-type {\n",
       "        vertical-align: middle;\n",
       "    }\n",
       "\n",
       "    .dataframe tbody tr th {\n",
       "        vertical-align: top;\n",
       "    }\n",
       "\n",
       "    .dataframe thead th {\n",
       "        text-align: right;\n",
       "    }\n",
       "</style>\n",
       "<table border=\"1\" class=\"dataframe\">\n",
       "  <thead>\n",
       "    <tr style=\"text-align: right;\">\n",
       "      <th></th>\n",
       "      <th>XGB_Train</th>\n",
       "      <th>XGB_Valid</th>\n",
       "    </tr>\n",
       "  </thead>\n",
       "  <tbody>\n",
       "    <tr>\n",
       "      <th>Accuracy</th>\n",
       "      <td>0.9013</td>\n",
       "      <td>0.8619</td>\n",
       "    </tr>\n",
       "    <tr>\n",
       "      <th>ErrorRate</th>\n",
       "      <td>0.0987</td>\n",
       "      <td>0.1381</td>\n",
       "    </tr>\n",
       "    <tr>\n",
       "      <th>Sensitivity</th>\n",
       "      <td>0.8697</td>\n",
       "      <td>0.5333</td>\n",
       "    </tr>\n",
       "    <tr>\n",
       "      <th>Specificity</th>\n",
       "      <td>0.9328</td>\n",
       "      <td>0.8916</td>\n",
       "    </tr>\n",
       "    <tr>\n",
       "      <th>Precision</th>\n",
       "      <td>0.9283</td>\n",
       "      <td>0.3077</td>\n",
       "    </tr>\n",
       "    <tr>\n",
       "      <th>F1</th>\n",
       "      <td>0.8980</td>\n",
       "      <td>0.3902</td>\n",
       "    </tr>\n",
       "    <tr>\n",
       "      <th>F2</th>\n",
       "      <td>0.8809</td>\n",
       "      <td>0.4651</td>\n",
       "    </tr>\n",
       "    <tr>\n",
       "      <th>F3</th>\n",
       "      <td>0.9159</td>\n",
       "      <td>0.3361</td>\n",
       "    </tr>\n",
       "  </tbody>\n",
       "</table>\n",
       "</div>"
      ],
      "text/plain": [
       "             XGB_Train  XGB_Valid\n",
       "Accuracy        0.9013     0.8619\n",
       "ErrorRate       0.0987     0.1381\n",
       "Sensitivity     0.8697     0.5333\n",
       "Specificity     0.9328     0.8916\n",
       "Precision       0.9283     0.3077\n",
       "F1              0.8980     0.3902\n",
       "F2              0.8809     0.4651\n",
       "F3              0.9159     0.3361"
      ]
     },
     "execution_count": 51,
     "metadata": {},
     "output_type": "execute_result"
    }
   ],
   "source": [
    "XGB = XGBClassifier(max_depth=2, learning_rate=0.01, n_estimators=200, objective='binary:logistic', booster='gbtree')\n",
    "XGB.fit(X_train, y_train)\n",
    "XGB_model = model_predict(X_train, y_train, X_test, y_test, XGB, 'XGB')\n",
    "XGB_model"
   ]
  },
  {
   "cell_type": "code",
   "execution_count": 52,
   "id": "f27277de",
   "metadata": {
    "pycharm": {
     "name": "#%%\n"
    }
   },
   "outputs": [
    {
     "data": {
      "image/png": "[encoded data removed]",
      "text/plain": [
       "<Figure size 432x288 with 2 Axes>"
      ]
     },
     "metadata": {
      "needs_background": "light"
     },
     "output_type": "display_data"
    }
   ],
   "source": [
    "plot_confusion_matrix(XGB, X_test, y_test, cmap = 'Blues')\n",
    "plt.title('RF Confusion matrix / testing data')\n",
    "plt.show()"
   ]
  },
  {
   "cell_type": "markdown",
   "id": "7a3af304",
   "metadata": {
    "pycharm": {
     "name": "#%% md\n"
    }
   },
   "source": [
    "## <font color =redblue> 8. Neural Network"
   ]
  },
  {
   "cell_type": "code",
   "execution_count": 53,
   "id": "8d300ad8",
   "metadata": {
    "pycharm": {
     "name": "#%%\n"
    }
   },
   "outputs": [
    {
     "data": {
      "text/html": [
       "<div>\n",
       "<style scoped>\n",
       "    .dataframe tbody tr th:only-of-type {\n",
       "        vertical-align: middle;\n",
       "    }\n",
       "\n",
       "    .dataframe tbody tr th {\n",
       "        vertical-align: top;\n",
       "    }\n",
       "\n",
       "    .dataframe thead th {\n",
       "        text-align: right;\n",
       "    }\n",
       "</style>\n",
       "<table border=\"1\" class=\"dataframe\">\n",
       "  <thead>\n",
       "    <tr style=\"text-align: right;\">\n",
       "      <th></th>\n",
       "      <th>NN_Train</th>\n",
       "      <th>NN_Valid</th>\n",
       "    </tr>\n",
       "  </thead>\n",
       "  <tbody>\n",
       "    <tr>\n",
       "      <th>Accuracy</th>\n",
       "      <td>0.8950</td>\n",
       "      <td>0.6685</td>\n",
       "    </tr>\n",
       "    <tr>\n",
       "      <th>ErrorRate</th>\n",
       "      <td>0.1050</td>\n",
       "      <td>0.3315</td>\n",
       "    </tr>\n",
       "    <tr>\n",
       "      <th>Sensitivity</th>\n",
       "      <td>1.0000</td>\n",
       "      <td>0.5333</td>\n",
       "    </tr>\n",
       "    <tr>\n",
       "      <th>Specificity</th>\n",
       "      <td>0.7899</td>\n",
       "      <td>0.6807</td>\n",
       "    </tr>\n",
       "    <tr>\n",
       "      <th>Precision</th>\n",
       "      <td>0.8264</td>\n",
       "      <td>0.1311</td>\n",
       "    </tr>\n",
       "    <tr>\n",
       "      <th>F1</th>\n",
       "      <td>0.9049</td>\n",
       "      <td>0.2105</td>\n",
       "    </tr>\n",
       "    <tr>\n",
       "      <th>F2</th>\n",
       "      <td>0.9597</td>\n",
       "      <td>0.3306</td>\n",
       "    </tr>\n",
       "    <tr>\n",
       "      <th>F3</th>\n",
       "      <td>0.8561</td>\n",
       "      <td>0.1544</td>\n",
       "    </tr>\n",
       "  </tbody>\n",
       "</table>\n",
       "</div>"
      ],
      "text/plain": [
       "             NN_Train  NN_Valid\n",
       "Accuracy       0.8950    0.6685\n",
       "ErrorRate      0.1050    0.3315\n",
       "Sensitivity    1.0000    0.5333\n",
       "Specificity    0.7899    0.6807\n",
       "Precision      0.8264    0.1311\n",
       "F1             0.9049    0.2105\n",
       "F2             0.9597    0.3306\n",
       "F3             0.8561    0.1544"
      ]
     },
     "execution_count": 53,
     "metadata": {},
     "output_type": "execute_result"
    }
   ],
   "source": [
    "NN = MLPClassifier(hidden_layer_sizes=(1), activation='logistic', solver='lbfgs', random_state=1)\n",
    "NN.fit(X_train, y_train)\n",
    "NN_model = model_predict(X_train, y_train, X_test, y_test, NN, 'NN')\n",
    "NN_model"
   ]
  },
  {
   "cell_type": "code",
   "execution_count": 54,
   "id": "f7ec38f0",
   "metadata": {
    "pycharm": {
     "name": "#%%\n"
    }
   },
   "outputs": [
    {
     "data": {
      "image/png": "[encoded data removed]",
      "text/plain": [
       "<Figure size 432x288 with 2 Axes>"
      ]
     },
     "metadata": {
      "needs_background": "light"
     },
     "output_type": "display_data"
    }
   ],
   "source": [
    "plot_confusion_matrix(NN, X_test, y_test, cmap = 'Blues')\n",
    "plt.title('RF Confusion matrix / testing data')\n",
    "plt.show()"
   ]
  },
  {
   "cell_type": "markdown",
   "id": "9a9915ef",
   "metadata": {
    "pycharm": {
     "name": "#%% md\n"
    }
   },
   "source": [
    "## <font color =redblue> 9. Linear Discriminant Analysis (LDA)"
   ]
  },
  {
   "cell_type": "code",
   "execution_count": 55,
   "id": "02b43300",
   "metadata": {
    "pycharm": {
     "name": "#%%\n"
    }
   },
   "outputs": [
    {
     "data": {
      "text/html": [
       "<div>\n",
       "<style scoped>\n",
       "    .dataframe tbody tr th:only-of-type {\n",
       "        vertical-align: middle;\n",
       "    }\n",
       "\n",
       "    .dataframe tbody tr th {\n",
       "        vertical-align: top;\n",
       "    }\n",
       "\n",
       "    .dataframe thead th {\n",
       "        text-align: right;\n",
       "    }\n",
       "</style>\n",
       "<table border=\"1\" class=\"dataframe\">\n",
       "  <thead>\n",
       "    <tr style=\"text-align: right;\">\n",
       "      <th></th>\n",
       "      <th>LDA_Train</th>\n",
       "      <th>LDA_Valid</th>\n",
       "    </tr>\n",
       "  </thead>\n",
       "  <tbody>\n",
       "    <tr>\n",
       "      <th>Accuracy</th>\n",
       "      <td>0.8088</td>\n",
       "      <td>0.7017</td>\n",
       "    </tr>\n",
       "    <tr>\n",
       "      <th>ErrorRate</th>\n",
       "      <td>0.1912</td>\n",
       "      <td>0.2983</td>\n",
       "    </tr>\n",
       "    <tr>\n",
       "      <th>Sensitivity</th>\n",
       "      <td>0.8361</td>\n",
       "      <td>0.4667</td>\n",
       "    </tr>\n",
       "    <tr>\n",
       "      <th>Specificity</th>\n",
       "      <td>0.7815</td>\n",
       "      <td>0.7229</td>\n",
       "    </tr>\n",
       "    <tr>\n",
       "      <th>Precision</th>\n",
       "      <td>0.7928</td>\n",
       "      <td>0.1321</td>\n",
       "    </tr>\n",
       "    <tr>\n",
       "      <th>F1</th>\n",
       "      <td>0.8139</td>\n",
       "      <td>0.2059</td>\n",
       "    </tr>\n",
       "    <tr>\n",
       "      <th>F2</th>\n",
       "      <td>0.8271</td>\n",
       "      <td>0.3097</td>\n",
       "    </tr>\n",
       "    <tr>\n",
       "      <th>F3</th>\n",
       "      <td>0.8011</td>\n",
       "      <td>0.1542</td>\n",
       "    </tr>\n",
       "  </tbody>\n",
       "</table>\n",
       "</div>"
      ],
      "text/plain": [
       "             LDA_Train  LDA_Valid\n",
       "Accuracy        0.8088     0.7017\n",
       "ErrorRate       0.1912     0.2983\n",
       "Sensitivity     0.8361     0.4667\n",
       "Specificity     0.7815     0.7229\n",
       "Precision       0.7928     0.1321\n",
       "F1              0.8139     0.2059\n",
       "F2              0.8271     0.3097\n",
       "F3              0.8011     0.1542"
      ]
     },
     "execution_count": 55,
     "metadata": {},
     "output_type": "execute_result"
    }
   ],
   "source": [
    "LDA = LDA()\n",
    "LDA.fit(X_train, y_train)\n",
    "LDA_model = model_predict(X_train, y_train, X_test, y_test, LDA, 'LDA')\n",
    "LDA_model"
   ]
  },
  {
   "cell_type": "code",
   "execution_count": 56,
   "id": "9d7bc51d",
   "metadata": {
    "pycharm": {
     "name": "#%%\n"
    }
   },
   "outputs": [
    {
     "data": {
      "image/png": "[encoded data removed]",
      "text/plain": [
       "<Figure size 432x288 with 2 Axes>"
      ]
     },
     "metadata": {
      "needs_background": "light"
     },
     "output_type": "display_data"
    }
   ],
   "source": [
    "plot_confusion_matrix(LDA, X_test, y_test, cmap = 'Blues')\n",
    "plt.title('RF Confusion matrix / testing data')\n",
    "plt.show()"
   ]
  },
  {
   "cell_type": "markdown",
   "id": "1c026ab0",
   "metadata": {
    "pycharm": {
     "name": "#%% md\n"
    }
   },
   "source": [
    "# <font color = lightgreenblue> 7) Models Evaluation"
   ]
  },
  {
   "cell_type": "code",
   "execution_count": 57,
   "id": "10f9f943",
   "metadata": {
    "pycharm": {
     "name": "#%%\n"
    }
   },
   "outputs": [
    {
     "data": {
      "text/html": [
       "<div>\n",
       "<style scoped>\n",
       "    .dataframe tbody tr th:only-of-type {\n",
       "        vertical-align: middle;\n",
       "    }\n",
       "\n",
       "    .dataframe tbody tr th {\n",
       "        vertical-align: top;\n",
       "    }\n",
       "\n",
       "    .dataframe thead th {\n",
       "        text-align: right;\n",
       "    }\n",
       "</style>\n",
       "<table border=\"1\" class=\"dataframe\">\n",
       "  <thead>\n",
       "    <tr style=\"text-align: right;\">\n",
       "      <th></th>\n",
       "      <th>RF_Train</th>\n",
       "      <th>RF_Valid</th>\n",
       "      <th>NB_Train</th>\n",
       "      <th>NB_Valid</th>\n",
       "      <th>LR_Train</th>\n",
       "      <th>LR_Valid</th>\n",
       "      <th>KNN_Train</th>\n",
       "      <th>KNN_Valid</th>\n",
       "      <th>SVM_Train</th>\n",
       "      <th>SVM_Valid</th>\n",
       "      <th>DT_Train</th>\n",
       "      <th>DT_Valid</th>\n",
       "      <th>XGB_Train</th>\n",
       "      <th>XGB_Valid</th>\n",
       "      <th>NN_Train</th>\n",
       "      <th>NN_Valid</th>\n",
       "      <th>LDA_Train</th>\n",
       "      <th>LDA_Valid</th>\n",
       "    </tr>\n",
       "  </thead>\n",
       "  <tbody>\n",
       "    <tr>\n",
       "      <th>Accuracy</th>\n",
       "      <td>0.9097</td>\n",
       "      <td>0.7514</td>\n",
       "      <td>0.6744</td>\n",
       "      <td>0.3425</td>\n",
       "      <td>0.8067</td>\n",
       "      <td>0.7238</td>\n",
       "      <td>0.9559</td>\n",
       "      <td>0.7956</td>\n",
       "      <td>0.8151</td>\n",
       "      <td>0.6796</td>\n",
       "      <td>0.9118</td>\n",
       "      <td>0.8729</td>\n",
       "      <td>0.9013</td>\n",
       "      <td>0.8619</td>\n",
       "      <td>0.8950</td>\n",
       "      <td>0.6685</td>\n",
       "      <td>0.8088</td>\n",
       "      <td>0.7017</td>\n",
       "    </tr>\n",
       "    <tr>\n",
       "      <th>ErrorRate</th>\n",
       "      <td>0.0903</td>\n",
       "      <td>0.2486</td>\n",
       "      <td>0.3256</td>\n",
       "      <td>0.6575</td>\n",
       "      <td>0.1933</td>\n",
       "      <td>0.2762</td>\n",
       "      <td>0.0441</td>\n",
       "      <td>0.2044</td>\n",
       "      <td>0.1849</td>\n",
       "      <td>0.3204</td>\n",
       "      <td>0.0882</td>\n",
       "      <td>0.1271</td>\n",
       "      <td>0.0987</td>\n",
       "      <td>0.1381</td>\n",
       "      <td>0.1050</td>\n",
       "      <td>0.3315</td>\n",
       "      <td>0.1912</td>\n",
       "      <td>0.2983</td>\n",
       "    </tr>\n",
       "    <tr>\n",
       "      <th>Sensitivity</th>\n",
       "      <td>0.9412</td>\n",
       "      <td>0.6000</td>\n",
       "      <td>0.9916</td>\n",
       "      <td>0.6000</td>\n",
       "      <td>0.8487</td>\n",
       "      <td>0.4667</td>\n",
       "      <td>1.0000</td>\n",
       "      <td>0.2667</td>\n",
       "      <td>0.8824</td>\n",
       "      <td>0.6667</td>\n",
       "      <td>0.8613</td>\n",
       "      <td>0.5333</td>\n",
       "      <td>0.8697</td>\n",
       "      <td>0.5333</td>\n",
       "      <td>1.0000</td>\n",
       "      <td>0.5333</td>\n",
       "      <td>0.8361</td>\n",
       "      <td>0.4667</td>\n",
       "    </tr>\n",
       "    <tr>\n",
       "      <th>Specificity</th>\n",
       "      <td>0.8782</td>\n",
       "      <td>0.7651</td>\n",
       "      <td>0.3571</td>\n",
       "      <td>0.3193</td>\n",
       "      <td>0.7647</td>\n",
       "      <td>0.7470</td>\n",
       "      <td>0.9118</td>\n",
       "      <td>0.8434</td>\n",
       "      <td>0.7479</td>\n",
       "      <td>0.6807</td>\n",
       "      <td>0.9622</td>\n",
       "      <td>0.9036</td>\n",
       "      <td>0.9328</td>\n",
       "      <td>0.8916</td>\n",
       "      <td>0.7899</td>\n",
       "      <td>0.6807</td>\n",
       "      <td>0.7815</td>\n",
       "      <td>0.7229</td>\n",
       "    </tr>\n",
       "    <tr>\n",
       "      <th>Precision</th>\n",
       "      <td>0.8854</td>\n",
       "      <td>0.1875</td>\n",
       "      <td>0.6067</td>\n",
       "      <td>0.0738</td>\n",
       "      <td>0.7829</td>\n",
       "      <td>0.1429</td>\n",
       "      <td>0.9189</td>\n",
       "      <td>0.1333</td>\n",
       "      <td>0.7778</td>\n",
       "      <td>0.1587</td>\n",
       "      <td>0.9579</td>\n",
       "      <td>0.3333</td>\n",
       "      <td>0.9283</td>\n",
       "      <td>0.3077</td>\n",
       "      <td>0.8264</td>\n",
       "      <td>0.1311</td>\n",
       "      <td>0.7928</td>\n",
       "      <td>0.1321</td>\n",
       "    </tr>\n",
       "    <tr>\n",
       "      <th>F1</th>\n",
       "      <td>0.9124</td>\n",
       "      <td>0.2857</td>\n",
       "      <td>0.7528</td>\n",
       "      <td>0.1314</td>\n",
       "      <td>0.8145</td>\n",
       "      <td>0.2187</td>\n",
       "      <td>0.9577</td>\n",
       "      <td>0.1778</td>\n",
       "      <td>0.8268</td>\n",
       "      <td>0.2564</td>\n",
       "      <td>0.9071</td>\n",
       "      <td>0.4103</td>\n",
       "      <td>0.8980</td>\n",
       "      <td>0.3902</td>\n",
       "      <td>0.9049</td>\n",
       "      <td>0.2105</td>\n",
       "      <td>0.8139</td>\n",
       "      <td>0.2059</td>\n",
       "    </tr>\n",
       "    <tr>\n",
       "      <th>F2</th>\n",
       "      <td>0.9295</td>\n",
       "      <td>0.4167</td>\n",
       "      <td>0.8799</td>\n",
       "      <td>0.2473</td>\n",
       "      <td>0.8347</td>\n",
       "      <td>0.3211</td>\n",
       "      <td>0.9827</td>\n",
       "      <td>0.2222</td>\n",
       "      <td>0.8592</td>\n",
       "      <td>0.4065</td>\n",
       "      <td>0.8791</td>\n",
       "      <td>0.4762</td>\n",
       "      <td>0.8809</td>\n",
       "      <td>0.4651</td>\n",
       "      <td>0.9597</td>\n",
       "      <td>0.3306</td>\n",
       "      <td>0.8271</td>\n",
       "      <td>0.3097</td>\n",
       "    </tr>\n",
       "    <tr>\n",
       "      <th>F3</th>\n",
       "      <td>0.8960</td>\n",
       "      <td>0.2174</td>\n",
       "      <td>0.6577</td>\n",
       "      <td>0.0895</td>\n",
       "      <td>0.7953</td>\n",
       "      <td>0.1659</td>\n",
       "      <td>0.9341</td>\n",
       "      <td>0.1481</td>\n",
       "      <td>0.7967</td>\n",
       "      <td>0.1873</td>\n",
       "      <td>0.9369</td>\n",
       "      <td>0.3604</td>\n",
       "      <td>0.9159</td>\n",
       "      <td>0.3361</td>\n",
       "      <td>0.8561</td>\n",
       "      <td>0.1544</td>\n",
       "      <td>0.8011</td>\n",
       "      <td>0.1542</td>\n",
       "    </tr>\n",
       "  </tbody>\n",
       "</table>\n",
       "</div>"
      ],
      "text/plain": [
       "             RF_Train  RF_Valid  NB_Train  NB_Valid  LR_Train  LR_Valid  \\\n",
       "Accuracy       0.9097    0.7514    0.6744    0.3425    0.8067    0.7238   \n",
       "ErrorRate      0.0903    0.2486    0.3256    0.6575    0.1933    0.2762   \n",
       "Sensitivity    0.9412    0.6000    0.9916    0.6000    0.8487    0.4667   \n",
       "Specificity    0.8782    0.7651    0.3571    0.3193    0.7647    0.7470   \n",
       "Precision      0.8854    0.1875    0.6067    0.0738    0.7829    0.1429   \n",
       "F1             0.9124    0.2857    0.7528    0.1314    0.8145    0.2187   \n",
       "F2             0.9295    0.4167    0.8799    0.2473    0.8347    0.3211   \n",
       "F3             0.8960    0.2174    0.6577    0.0895    0.7953    0.1659   \n",
       "\n",
       "             KNN_Train  KNN_Valid  SVM_Train  SVM_Valid  DT_Train  DT_Valid  \\\n",
       "Accuracy        0.9559     0.7956     0.8151     0.6796    0.9118    0.8729   \n",
       "ErrorRate       0.0441     0.2044     0.1849     0.3204    0.0882    0.1271   \n",
       "Sensitivity     1.0000     0.2667     0.8824     0.6667    0.8613    0.5333   \n",
       "Specificity     0.9118     0.8434     0.7479     0.6807    0.9622    0.9036   \n",
       "Precision       0.9189     0.1333     0.7778     0.1587    0.9579    0.3333   \n",
       "F1              0.9577     0.1778     0.8268     0.2564    0.9071    0.4103   \n",
       "F2              0.9827     0.2222     0.8592     0.4065    0.8791    0.4762   \n",
       "F3              0.9341     0.1481     0.7967     0.1873    0.9369    0.3604   \n",
       "\n",
       "             XGB_Train  XGB_Valid  NN_Train  NN_Valid  LDA_Train  LDA_Valid  \n",
       "Accuracy        0.9013     0.8619    0.8950    0.6685     0.8088     0.7017  \n",
       "ErrorRate       0.0987     0.1381    0.1050    0.3315     0.1912     0.2983  \n",
       "Sensitivity     0.8697     0.5333    1.0000    0.5333     0.8361     0.4667  \n",
       "Specificity     0.9328     0.8916    0.7899    0.6807     0.7815     0.7229  \n",
       "Precision       0.9283     0.3077    0.8264    0.1311     0.7928     0.1321  \n",
       "F1              0.8980     0.3902    0.9049    0.2105     0.8139     0.2059  \n",
       "F2              0.8809     0.4651    0.9597    0.3306     0.8271     0.3097  \n",
       "F3              0.9159     0.3361    0.8561    0.1544     0.8011     0.1542  "
      ]
     },
     "execution_count": 57,
     "metadata": {},
     "output_type": "execute_result"
    }
   ],
   "source": [
    "pd.concat([RF_model, NB_model, LR_model, KNN_model, SVM_model, DT_model,  XGB_model, NN_model, LDA_model], axis=1)"
   ]
  },
  {
   "cell_type": "markdown",
   "id": "f7df8015",
   "metadata": {
    "pycharm": {
     "name": "#%% md\n"
    }
   },
   "source": [
    "### NN & LDA almost the sam accuracy and sensitivity ,,, DT & XGB amlost the same accuracy and sensitivity ,,, Based on statistical measures, SVM is the best model since it has the highest sensitivity with resonable overall accuracy 70 %"
   ]
  },
  {
   "cell_type": "markdown",
   "id": "7b77d37d",
   "metadata": {
    "pycharm": {
     "name": "#%% md\n"
    }
   },
   "source": [
    "### <font color =redblue> ROC Curve to show the trade-off between sensitivity and specificity"
   ]
  },
  {
   "cell_type": "code",
   "execution_count": 58,
   "id": "a9fc1925",
   "metadata": {
    "pycharm": {
     "name": "#%%\n"
    }
   },
   "outputs": [
    {
     "data": {
      "text/plain": [
       "<matplotlib.legend.Legend at 0x2576764cc10>"
      ]
     },
     "execution_count": 58,
     "metadata": {},
     "output_type": "execute_result"
    },
    {
     "data": {
      "image/png": "[encoded data removed]",
      "text/plain": [
       "<Figure size 432x288 with 1 Axes>"
      ]
     },
     "metadata": {
      "needs_background": "light"
     },
     "output_type": "display_data"
    }
   ],
   "source": [
    "plt.figure(0).clf()\n",
    "\n",
    "y_pred = RF.predict_proba(X_test)[:, 1]\n",
    "fpr, tpr, _ = metrics.roc_curve(y_test, y_pred)\n",
    "auc = round(metrics.roc_auc_score(y_test, y_pred), 4)\n",
    "plt.plot(fpr,tpr,label=\"Random forest, AUC=\"+str(auc))\n",
    "\n",
    "y_pred = NB.predict_proba(X_test)[:, 1]\n",
    "fpr, tpr, _ = metrics.roc_curve(y_test, y_pred)\n",
    "auc = round(metrics.roc_auc_score(y_test, y_pred), 4)\n",
    "plt.plot(fpr,tpr,label=\"Naive Bayes, AUC=\"+str(auc))\n",
    "\n",
    "y_pred = LR.predict_proba(X_test)[:, 1]\n",
    "fpr, tpr, _ = metrics.roc_curve(y_test, y_pred)\n",
    "auc = round(metrics.roc_auc_score(y_test, y_pred), 4)\n",
    "plt.plot(fpr,tpr,label=\"Logistic, AUC=\"+str(auc))\n",
    "\n",
    "y_pred = KNN.predict_proba(X_test)[:, 1]\n",
    "fpr, tpr, _ = metrics.roc_curve(y_test, y_pred)\n",
    "auc = round(metrics.roc_auc_score(y_test, y_pred), 4)\n",
    "plt.plot(fpr,tpr,label=\"KNN, AUC=\"+str(auc))\n",
    "\n",
    "y_pred = SVM.predict_proba(X_test)[:, 1]\n",
    "fpr, tpr, _ = metrics.roc_curve(y_test, y_pred)\n",
    "auc = round(metrics.roc_auc_score(y_test, y_pred), 4)\n",
    "plt.plot(fpr,tpr,label=\"SVM, AUC=\"+str(auc))\n",
    "\n",
    "y_pred = DT.predict_proba(X_test)[:, 1]\n",
    "fpr, tpr, _ = metrics.roc_curve(y_test, y_pred)\n",
    "auc = round(metrics.roc_auc_score(y_test, y_pred), 4)\n",
    "plt.plot(fpr,tpr,label=\"DT, AUC=\"+str(auc))\n",
    "\n",
    "\n",
    "y_pred = XGB.predict_proba(X_test)[:, 1]\n",
    "fpr, tpr, _ = metrics.roc_curve(y_test, y_pred)\n",
    "auc = round(metrics.roc_auc_score(y_test, y_pred), 4)\n",
    "plt.plot(fpr,tpr,label=\"XGboost, AUC=\"+str(auc))\n",
    "\n",
    "y_pred = NN.predict_proba(X_test)[:, 1]\n",
    "fpr, tpr, _ = metrics.roc_curve(y_test, y_pred)\n",
    "auc = round(metrics.roc_auc_score(y_test, y_pred), 4)\n",
    "plt.plot(fpr,tpr,label=\"NN, AUC=\"+str(auc))\n",
    "\n",
    "y_pred = LDA.predict_proba(X_test)[:, 1]\n",
    "fpr, tpr, _ = metrics.roc_curve(y_test, y_pred)\n",
    "auc = round(metrics.roc_auc_score(y_test, y_pred), 4)\n",
    "plt.plot(fpr,tpr,label=\"LDA, AUC=\"+str(auc))\n",
    "\n",
    "plt.legend()"
   ]
  }
 ],
 "metadata": {
  "kernelspec": {
   "display_name": "Python 3 (ipykernel)",
   "language": "python",
   "name": "python3"
  },
  "language_info": {
   "codemirror_mode": {
    "name": "ipython",
    "version": 3
   },
   "file_extension": ".py",
   "mimetype": "text/x-python",
   "name": "python",
   "nbconvert_exporter": "python",
   "pygments_lexer": "ipython3",
   "version": "3.9.12"
  }
 },
 "nbformat": 4,
 "nbformat_minor": 5
}
